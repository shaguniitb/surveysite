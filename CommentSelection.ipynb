{
 "cells": [
  {
   "cell_type": "code",
   "execution_count": 1,
   "id": "efc4c198",
   "metadata": {},
   "outputs": [],
   "source": [
    "import pandas as pd\n",
    "import random\n",
    "import numpy as np\n",
    "import datetime"
   ]
  },
  {
   "cell_type": "code",
   "execution_count": 2,
   "id": "33517232",
   "metadata": {},
   "outputs": [],
   "source": [
    "pd.set_option('display.max_colwidth', None)"
   ]
  },
  {
   "cell_type": "code",
   "execution_count": 3,
   "id": "cdc0c7d4",
   "metadata": {},
   "outputs": [],
   "source": [
    "INPUT_FILE = '../toxicity_ratings - twitter.csv'"
   ]
  },
  {
   "cell_type": "code",
   "execution_count": 4,
   "id": "8a6797c3",
   "metadata": {
    "scrolled": false
   },
   "outputs": [
    {
     "name": "stderr",
     "output_type": "stream",
     "text": [
      "/Users/shagunjhaver/opt/anaconda3/lib/python3.8/site-packages/IPython/core/interactiveshell.py:3165: DtypeWarning: Columns (6,7,8,9,10,14,15,16,17,18,19) have mixed types.Specify dtype option on import or set low_memory=False.\n",
      "  has_raised = await self.run_ast_nodes(code_ast.body, cell_name,\n"
     ]
    },
    {
     "data": {
      "text/plain": [
       "72947"
      ]
     },
     "execution_count": 4,
     "metadata": {},
     "output_type": "execute_result"
    }
   ],
   "source": [
    "df = pd.read_csv(INPUT_FILE)\n",
    "len(df)"
   ]
  },
  {
   "cell_type": "code",
   "execution_count": 5,
   "id": "f48c9faa",
   "metadata": {},
   "outputs": [
    {
     "data": {
      "text/plain": [
       "70208"
      ]
     },
     "execution_count": 5,
     "metadata": {},
     "output_type": "execute_result"
    }
   ],
   "source": [
    "df = df.dropna()\n",
    "len(df)"
   ]
  },
  {
   "cell_type": "code",
   "execution_count": 6,
   "id": "6632c519",
   "metadata": {},
   "outputs": [],
   "source": [
    "toxic_fields = [\n",
    "    'toxic_score',\n",
    "    'toxic_score.1',   \n",
    "    'toxic_score.2',\n",
    "    'toxic_score.3',    \n",
    "    'toxic_score.4',    \n",
    "]"
   ]
  },
  {
   "cell_type": "code",
   "execution_count": 7,
   "id": "c7262fb2",
   "metadata": {},
   "outputs": [],
   "source": [
    "def get_avg_toxicity(row):\n",
    "    myList = [row[field] for field in toxic_fields]\n",
    "    result = sum(myList)/20.0\n",
    "    for field in toxic_fields:\n",
    "        maxValue = max(myList)\n",
    "        minValue = min(myList)\n",
    "        if (maxValue - minValue > 1):\n",
    "            return None\n",
    "    return result"
   ]
  },
  {
   "cell_type": "code",
   "execution_count": 8,
   "id": "c3cf5e27",
   "metadata": {},
   "outputs": [],
   "source": [
    "df['avg_toxic_score'] = df.apply (lambda row: get_avg_toxicity(row), axis=1)"
   ]
  },
  {
   "cell_type": "code",
   "execution_count": 9,
   "id": "fa9ecee7",
   "metadata": {},
   "outputs": [
    {
     "data": {
      "text/plain": [
       "27994"
      ]
     },
     "execution_count": 9,
     "metadata": {},
     "output_type": "execute_result"
    }
   ],
   "source": [
    "df = df.dropna()\n",
    "len(df)"
   ]
  },
  {
   "cell_type": "code",
   "execution_count": 10,
   "id": "38ce1867",
   "metadata": {},
   "outputs": [],
   "source": [
    "def get_bucket(row, field):\n",
    "    if (row[field] <= 0.2):\n",
    "        return 0.0\n",
    "    elif (row[field] < 0.4):\n",
    "        return 0.2\n",
    "    elif (row[field] < 0.6):\n",
    "        return 0.4\n",
    "    elif (row[field] < 0.8):\n",
    "        return 0.6\n",
    "    else:\n",
    "        return 0.8"
   ]
  },
  {
   "cell_type": "code",
   "execution_count": 11,
   "id": "60e2e400",
   "metadata": {
    "scrolled": true
   },
   "outputs": [],
   "source": [
    "df['avg_toxic_window'] = df.apply(lambda row: get_bucket(row, 'avg_toxic_score'), axis=1)"
   ]
  },
  {
   "cell_type": "code",
   "execution_count": 12,
   "id": "0776f075",
   "metadata": {},
   "outputs": [
    {
     "name": "stdout",
     "output_type": "stream",
     "text": [
      "0.2 1105\n",
      "0.4 356\n",
      "0.6 141\n",
      "0.8 143\n"
     ]
    }
   ],
   "source": [
    "myrange = [0.2, 0.4, 0.6, 0.8]\n",
    "sampled_dfs = []\n",
    "for ow in myrange:\n",
    "    g = df[df['avg_toxic_window'] == ow]\n",
    "    print (ow, len(g))\n",
    "    sampled_dfs.append(g.sample(10))"
   ]
  },
  {
   "cell_type": "code",
   "execution_count": 13,
   "id": "688b5620",
   "metadata": {},
   "outputs": [],
   "source": [
    "final_df = pd.concat(sampled_dfs)"
   ]
  },
  {
   "cell_type": "code",
   "execution_count": 14,
   "id": "c0bbe1d6",
   "metadata": {},
   "outputs": [],
   "source": [
    "def get_random_date():\n",
    "    random_number_of_days = random.randrange(40)\n",
    "    random_date = datetime.date(2021, 10, 1) + datetime.timedelta(days=random_number_of_days)\n",
    "    return random_date"
   ]
  },
  {
   "cell_type": "code",
   "execution_count": 15,
   "id": "de7719ee",
   "metadata": {},
   "outputs": [],
   "source": [
    "def assignPeripherals(final_df):\n",
    "    final_df = final_df[['comment', 'avg_toxic_score', 'comment_ID']]\n",
    "    \n",
    "    # Set username\n",
    "    usernameDf = pd.read_csv('usernames.csv')\n",
    "    usernames = set(list(usernameDf['username']))\n",
    "    final_df['author'] = df.apply(lambda row: random.sample(usernames, 1)[0], axis=1)\n",
    "    \n",
    "    # Set full name\n",
    "    nameDf = pd.read_csv('random_names.csv')\n",
    "    names = set(list(nameDf['name']))\n",
    "    final_df['author_name'] = df.apply(lambda row: random.sample(names, 1)[0], axis=1)    \n",
    "    \n",
    "    # Set integer fields\n",
    "    final_df['num_likes'] = np.random.randint(1, 100, final_df.shape[0])    \n",
    "    final_df['num_comments'] = np.random.randint(1, 100, final_df.shape[0])    \n",
    "    final_df['num_retweets'] = np.random.randint(1, 100, final_df.shape[0])        \n",
    "    \n",
    "    # Set publication date\n",
    "    final_df['pub_date'] = df.apply(lambda row: get_random_date(), axis=1)\n",
    "    \n",
    "    return final_df"
   ]
  },
  {
   "cell_type": "code",
   "execution_count": 16,
   "id": "0ad30a52",
   "metadata": {},
   "outputs": [
    {
     "name": "stderr",
     "output_type": "stream",
     "text": [
      "<ipython-input-15-61dd48437cb0>:7: SettingWithCopyWarning: \n",
      "A value is trying to be set on a copy of a slice from a DataFrame.\n",
      "Try using .loc[row_indexer,col_indexer] = value instead\n",
      "\n",
      "See the caveats in the documentation: https://pandas.pydata.org/pandas-docs/stable/user_guide/indexing.html#returning-a-view-versus-a-copy\n",
      "  final_df['author'] = df.apply(lambda row: random.sample(usernames, 1)[0], axis=1)\n",
      "<ipython-input-15-61dd48437cb0>:12: SettingWithCopyWarning: \n",
      "A value is trying to be set on a copy of a slice from a DataFrame.\n",
      "Try using .loc[row_indexer,col_indexer] = value instead\n",
      "\n",
      "See the caveats in the documentation: https://pandas.pydata.org/pandas-docs/stable/user_guide/indexing.html#returning-a-view-versus-a-copy\n",
      "  final_df['author_name'] = df.apply(lambda row: random.sample(names, 1)[0], axis=1)\n",
      "<ipython-input-15-61dd48437cb0>:15: SettingWithCopyWarning: \n",
      "A value is trying to be set on a copy of a slice from a DataFrame.\n",
      "Try using .loc[row_indexer,col_indexer] = value instead\n",
      "\n",
      "See the caveats in the documentation: https://pandas.pydata.org/pandas-docs/stable/user_guide/indexing.html#returning-a-view-versus-a-copy\n",
      "  final_df['num_likes'] = np.random.randint(1, 100, final_df.shape[0])\n",
      "<ipython-input-15-61dd48437cb0>:16: SettingWithCopyWarning: \n",
      "A value is trying to be set on a copy of a slice from a DataFrame.\n",
      "Try using .loc[row_indexer,col_indexer] = value instead\n",
      "\n",
      "See the caveats in the documentation: https://pandas.pydata.org/pandas-docs/stable/user_guide/indexing.html#returning-a-view-versus-a-copy\n",
      "  final_df['num_comments'] = np.random.randint(1, 100, final_df.shape[0])\n",
      "<ipython-input-15-61dd48437cb0>:17: SettingWithCopyWarning: \n",
      "A value is trying to be set on a copy of a slice from a DataFrame.\n",
      "Try using .loc[row_indexer,col_indexer] = value instead\n",
      "\n",
      "See the caveats in the documentation: https://pandas.pydata.org/pandas-docs/stable/user_guide/indexing.html#returning-a-view-versus-a-copy\n",
      "  final_df['num_retweets'] = np.random.randint(1, 100, final_df.shape[0])\n",
      "<ipython-input-15-61dd48437cb0>:20: SettingWithCopyWarning: \n",
      "A value is trying to be set on a copy of a slice from a DataFrame.\n",
      "Try using .loc[row_indexer,col_indexer] = value instead\n",
      "\n",
      "See the caveats in the documentation: https://pandas.pydata.org/pandas-docs/stable/user_guide/indexing.html#returning-a-view-versus-a-copy\n",
      "  final_df['pub_date'] = df.apply(lambda row: get_random_date(), axis=1)\n"
     ]
    },
    {
     "data": {
      "text/html": [
       "<div>\n",
       "<style scoped>\n",
       "    .dataframe tbody tr th:only-of-type {\n",
       "        vertical-align: middle;\n",
       "    }\n",
       "\n",
       "    .dataframe tbody tr th {\n",
       "        vertical-align: top;\n",
       "    }\n",
       "\n",
       "    .dataframe thead th {\n",
       "        text-align: right;\n",
       "    }\n",
       "</style>\n",
       "<table border=\"1\" class=\"dataframe\">\n",
       "  <thead>\n",
       "    <tr style=\"text-align: right;\">\n",
       "      <th></th>\n",
       "      <th>comment</th>\n",
       "      <th>avg_toxic_score</th>\n",
       "      <th>comment_ID</th>\n",
       "      <th>author</th>\n",
       "      <th>author_name</th>\n",
       "      <th>num_likes</th>\n",
       "      <th>num_comments</th>\n",
       "      <th>num_retweets</th>\n",
       "      <th>pub_date</th>\n",
       "    </tr>\n",
       "  </thead>\n",
       "  <tbody>\n",
       "    <tr>\n",
       "      <th>68411</th>\n",
       "      <td>Don't you have problems in your own country to solve ? Get a life.</td>\n",
       "      <td>0.30</td>\n",
       "      <td>4822_12</td>\n",
       "      <td>meaningfully_usable_airtime</td>\n",
       "      <td>Lyndon Barrett</td>\n",
       "      <td>85</td>\n",
       "      <td>11</td>\n",
       "      <td>50</td>\n",
       "      <td>2021-10-30</td>\n",
       "    </tr>\n",
       "    <tr>\n",
       "      <th>17431</th>\n",
       "      <td>I’m betting Acosta is a pedophile himself.</td>\n",
       "      <td>0.20</td>\n",
       "      <td>746_16</td>\n",
       "      <td>warm_roadblock</td>\n",
       "      <td>Sophia Grant</td>\n",
       "      <td>46</td>\n",
       "      <td>51</td>\n",
       "      <td>63</td>\n",
       "      <td>2021-10-20</td>\n",
       "    </tr>\n",
       "    <tr>\n",
       "      <th>28424</th>\n",
       "      <td>I’m sure you were just “trolling” do something better with your life</td>\n",
       "      <td>0.20</td>\n",
       "      <td>2876_8</td>\n",
       "      <td>doting_lineage</td>\n",
       "      <td>Ada Jones</td>\n",
       "      <td>55</td>\n",
       "      <td>47</td>\n",
       "      <td>46</td>\n",
       "      <td>2021-10-25</td>\n",
       "    </tr>\n",
       "    <tr>\n",
       "      <th>21385</th>\n",
       "      <td>Your whole life has been a handout, Tammy.</td>\n",
       "      <td>0.35</td>\n",
       "      <td>516_7</td>\n",
       "      <td>bravelypracticalchina</td>\n",
       "      <td>Amber Kelly</td>\n",
       "      <td>41</td>\n",
       "      <td>62</td>\n",
       "      <td>70</td>\n",
       "      <td>2021-11-09</td>\n",
       "    </tr>\n",
       "    <tr>\n",
       "      <th>22120</th>\n",
       "      <td>Good morning! GOP = Gross Old Perverts</td>\n",
       "      <td>0.35</td>\n",
       "      <td>1331_11</td>\n",
       "      <td>thefrizzyforgiveness</td>\n",
       "      <td>Chloe Williams</td>\n",
       "      <td>81</td>\n",
       "      <td>98</td>\n",
       "      <td>5</td>\n",
       "      <td>2021-10-13</td>\n",
       "    </tr>\n",
       "  </tbody>\n",
       "</table>\n",
       "</div>"
      ],
      "text/plain": [
       "                                                                    comment  \\\n",
       "68411    Don't you have problems in your own country to solve ? Get a life.   \n",
       "17431                            I’m betting Acosta is a pedophile himself.   \n",
       "28424  I’m sure you were just “trolling” do something better with your life   \n",
       "21385                            Your whole life has been a handout, Tammy.   \n",
       "22120                                Good morning! GOP = Gross Old Perverts   \n",
       "\n",
       "       avg_toxic_score comment_ID                       author  \\\n",
       "68411             0.30    4822_12  meaningfully_usable_airtime   \n",
       "17431             0.20     746_16               warm_roadblock   \n",
       "28424             0.20     2876_8               doting_lineage   \n",
       "21385             0.35      516_7        bravelypracticalchina   \n",
       "22120             0.35    1331_11         thefrizzyforgiveness   \n",
       "\n",
       "          author_name  num_likes  num_comments  num_retweets    pub_date  \n",
       "68411  Lyndon Barrett         85            11            50  2021-10-30  \n",
       "17431    Sophia Grant         46            51            63  2021-10-20  \n",
       "28424       Ada Jones         55            47            46  2021-10-25  \n",
       "21385     Amber Kelly         41            62            70  2021-11-09  \n",
       "22120  Chloe Williams         81            98             5  2021-10-13  "
      ]
     },
     "execution_count": 16,
     "metadata": {},
     "output_type": "execute_result"
    }
   ],
   "source": [
    "final_df = assignPeripherals(final_df)\n",
    "final_df.head()"
   ]
  },
  {
   "cell_type": "code",
   "execution_count": 17,
   "id": "18d78ab6",
   "metadata": {},
   "outputs": [],
   "source": [
    "final_df = final_df.sample(frac=1).reset_index(drop=True)\n",
    "final_df.to_csv('main_comments.csv', index=False)"
   ]
  },
  {
   "cell_type": "code",
   "execution_count": 18,
   "id": "a09c91bc",
   "metadata": {},
   "outputs": [],
   "source": [
    "nontoxic_df = df.query('avg_toxic_window == 0.0')"
   ]
  },
  {
   "cell_type": "code",
   "execution_count": 19,
   "id": "d4253070",
   "metadata": {},
   "outputs": [],
   "source": [
    "nontoxic_sample = nontoxic_df.sample(30)"
   ]
  },
  {
   "cell_type": "code",
   "execution_count": 20,
   "id": "f690bbbf",
   "metadata": {},
   "outputs": [
    {
     "name": "stderr",
     "output_type": "stream",
     "text": [
      "<ipython-input-15-61dd48437cb0>:7: SettingWithCopyWarning: \n",
      "A value is trying to be set on a copy of a slice from a DataFrame.\n",
      "Try using .loc[row_indexer,col_indexer] = value instead\n",
      "\n",
      "See the caveats in the documentation: https://pandas.pydata.org/pandas-docs/stable/user_guide/indexing.html#returning-a-view-versus-a-copy\n",
      "  final_df['author'] = df.apply(lambda row: random.sample(usernames, 1)[0], axis=1)\n",
      "<ipython-input-15-61dd48437cb0>:12: SettingWithCopyWarning: \n",
      "A value is trying to be set on a copy of a slice from a DataFrame.\n",
      "Try using .loc[row_indexer,col_indexer] = value instead\n",
      "\n",
      "See the caveats in the documentation: https://pandas.pydata.org/pandas-docs/stable/user_guide/indexing.html#returning-a-view-versus-a-copy\n",
      "  final_df['author_name'] = df.apply(lambda row: random.sample(names, 1)[0], axis=1)\n",
      "<ipython-input-15-61dd48437cb0>:15: SettingWithCopyWarning: \n",
      "A value is trying to be set on a copy of a slice from a DataFrame.\n",
      "Try using .loc[row_indexer,col_indexer] = value instead\n",
      "\n",
      "See the caveats in the documentation: https://pandas.pydata.org/pandas-docs/stable/user_guide/indexing.html#returning-a-view-versus-a-copy\n",
      "  final_df['num_likes'] = np.random.randint(1, 100, final_df.shape[0])\n",
      "<ipython-input-15-61dd48437cb0>:16: SettingWithCopyWarning: \n",
      "A value is trying to be set on a copy of a slice from a DataFrame.\n",
      "Try using .loc[row_indexer,col_indexer] = value instead\n",
      "\n",
      "See the caveats in the documentation: https://pandas.pydata.org/pandas-docs/stable/user_guide/indexing.html#returning-a-view-versus-a-copy\n",
      "  final_df['num_comments'] = np.random.randint(1, 100, final_df.shape[0])\n",
      "<ipython-input-15-61dd48437cb0>:17: SettingWithCopyWarning: \n",
      "A value is trying to be set on a copy of a slice from a DataFrame.\n",
      "Try using .loc[row_indexer,col_indexer] = value instead\n",
      "\n",
      "See the caveats in the documentation: https://pandas.pydata.org/pandas-docs/stable/user_guide/indexing.html#returning-a-view-versus-a-copy\n",
      "  final_df['num_retweets'] = np.random.randint(1, 100, final_df.shape[0])\n",
      "<ipython-input-15-61dd48437cb0>:20: SettingWithCopyWarning: \n",
      "A value is trying to be set on a copy of a slice from a DataFrame.\n",
      "Try using .loc[row_indexer,col_indexer] = value instead\n",
      "\n",
      "See the caveats in the documentation: https://pandas.pydata.org/pandas-docs/stable/user_guide/indexing.html#returning-a-view-versus-a-copy\n",
      "  final_df['pub_date'] = df.apply(lambda row: get_random_date(), axis=1)\n"
     ]
    },
    {
     "data": {
      "text/html": [
       "<div>\n",
       "<style scoped>\n",
       "    .dataframe tbody tr th:only-of-type {\n",
       "        vertical-align: middle;\n",
       "    }\n",
       "\n",
       "    .dataframe tbody tr th {\n",
       "        vertical-align: top;\n",
       "    }\n",
       "\n",
       "    .dataframe thead th {\n",
       "        text-align: right;\n",
       "    }\n",
       "</style>\n",
       "<table border=\"1\" class=\"dataframe\">\n",
       "  <thead>\n",
       "    <tr style=\"text-align: right;\">\n",
       "      <th></th>\n",
       "      <th>comment</th>\n",
       "      <th>avg_toxic_score</th>\n",
       "      <th>comment_ID</th>\n",
       "      <th>author</th>\n",
       "      <th>author_name</th>\n",
       "      <th>num_likes</th>\n",
       "      <th>num_comments</th>\n",
       "      <th>num_retweets</th>\n",
       "      <th>pub_date</th>\n",
       "    </tr>\n",
       "  </thead>\n",
       "  <tbody>\n",
       "    <tr>\n",
       "      <th>4872</th>\n",
       "      <td>The worst twitter take ever</td>\n",
       "      <td>0.05</td>\n",
       "      <td>623_21</td>\n",
       "      <td>thelyricalmirth</td>\n",
       "      <td>Ashton Campbell</td>\n",
       "      <td>67</td>\n",
       "      <td>12</td>\n",
       "      <td>22</td>\n",
       "      <td>2021-10-24</td>\n",
       "    </tr>\n",
       "    <tr>\n",
       "      <th>42142</th>\n",
       "      <td>The d****** part really hit close to home 😔😔</td>\n",
       "      <td>0.10</td>\n",
       "      <td>2642_21</td>\n",
       "      <td>intrigued_tights</td>\n",
       "      <td>Arianna Evans</td>\n",
       "      <td>61</td>\n",
       "      <td>98</td>\n",
       "      <td>87</td>\n",
       "      <td>2021-10-26</td>\n",
       "    </tr>\n",
       "    <tr>\n",
       "      <th>63279</th>\n",
       "      <td>weed is satanic apparently</td>\n",
       "      <td>0.05</td>\n",
       "      <td>4627_22</td>\n",
       "      <td>exciting_self-control</td>\n",
       "      <td>Garry Walker</td>\n",
       "      <td>29</td>\n",
       "      <td>21</td>\n",
       "      <td>5</td>\n",
       "      <td>2021-11-05</td>\n",
       "    </tr>\n",
       "    <tr>\n",
       "      <th>58236</th>\n",
       "      <td>We all ugly to somebody. ☠️</td>\n",
       "      <td>0.15</td>\n",
       "      <td>4784_5</td>\n",
       "      <td>thefrizzyforgiveness</td>\n",
       "      <td>Owen Kelly</td>\n",
       "      <td>43</td>\n",
       "      <td>5</td>\n",
       "      <td>42</td>\n",
       "      <td>2021-11-05</td>\n",
       "    </tr>\n",
       "    <tr>\n",
       "      <th>22658</th>\n",
       "      <td>Honestly , the french server is very supported . Ive lost my account bc I forgot my pw bc im dumb 🤪🤪. But friend mE; målibu</td>\n",
       "      <td>0.00</td>\n",
       "      <td>3544_7</td>\n",
       "      <td>warm_roadblock</td>\n",
       "      <td>Haris Cole</td>\n",
       "      <td>25</td>\n",
       "      <td>21</td>\n",
       "      <td>58</td>\n",
       "      <td>2021-10-13</td>\n",
       "    </tr>\n",
       "  </tbody>\n",
       "</table>\n",
       "</div>"
      ],
      "text/plain": [
       "                                                                                                                           comment  \\\n",
       "4872                                                                                                   The worst twitter take ever   \n",
       "42142                                                                                 The d****** part really hit close to home 😔😔   \n",
       "63279                                                                                                   weed is satanic apparently   \n",
       "58236                                                                                                  We all ugly to somebody. ☠️   \n",
       "22658  Honestly , the french server is very supported . Ive lost my account bc I forgot my pw bc im dumb 🤪🤪. But friend mE; målibu   \n",
       "\n",
       "       avg_toxic_score comment_ID                 author      author_name  \\\n",
       "4872              0.05     623_21        thelyricalmirth  Ashton Campbell   \n",
       "42142             0.10    2642_21       intrigued_tights    Arianna Evans   \n",
       "63279             0.05    4627_22  exciting_self-control     Garry Walker   \n",
       "58236             0.15     4784_5   thefrizzyforgiveness       Owen Kelly   \n",
       "22658             0.00     3544_7         warm_roadblock       Haris Cole   \n",
       "\n",
       "       num_likes  num_comments  num_retweets    pub_date  \n",
       "4872          67            12            22  2021-10-24  \n",
       "42142         61            98            87  2021-10-26  \n",
       "63279         29            21             5  2021-11-05  \n",
       "58236         43             5            42  2021-11-05  \n",
       "22658         25            21            58  2021-10-13  "
      ]
     },
     "execution_count": 20,
     "metadata": {},
     "output_type": "execute_result"
    }
   ],
   "source": [
    "nontoxic_sample = assignPeripherals(nontoxic_sample)\n",
    "nontoxic_sample.head()"
   ]
  },
  {
   "cell_type": "code",
   "execution_count": 21,
   "id": "411c564e",
   "metadata": {},
   "outputs": [],
   "source": [
    "nontoxic_sample.to_csv('nontoxic_comments.csv', index=False)"
   ]
  }
 ],
 "metadata": {
  "kernelspec": {
   "display_name": "Python 3",
   "language": "python",
   "name": "python3"
  },
  "language_info": {
   "codemirror_mode": {
    "name": "ipython",
    "version": 3
   },
   "file_extension": ".py",
   "mimetype": "text/x-python",
   "name": "python",
   "nbconvert_exporter": "python",
   "pygments_lexer": "ipython3",
   "version": "3.8.8"
  }
 },
 "nbformat": 4,
 "nbformat_minor": 5
}
