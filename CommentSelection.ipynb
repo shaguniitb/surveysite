{
 "cells": [
  {
   "cell_type": "code",
   "execution_count": 1,
   "id": "efc4c198",
   "metadata": {},
   "outputs": [],
   "source": [
    "import pandas as pd\n",
    "import random\n",
    "import numpy as np\n",
    "import datetime"
   ]
  },
  {
   "cell_type": "code",
   "execution_count": 2,
   "id": "33517232",
   "metadata": {},
   "outputs": [],
   "source": [
    "pd.set_option('display.max_colwidth', None)"
   ]
  },
  {
   "cell_type": "code",
   "execution_count": 3,
   "id": "cdc0c7d4",
   "metadata": {},
   "outputs": [],
   "source": [
    "INPUT_FILE = '../toxicity_ratings - twitter.csv'"
   ]
  },
  {
   "cell_type": "code",
   "execution_count": 4,
   "id": "8a6797c3",
   "metadata": {
    "scrolled": false
   },
   "outputs": [
    {
     "name": "stderr",
     "output_type": "stream",
     "text": [
      "/Users/shagunjhaver/opt/anaconda3/lib/python3.8/site-packages/IPython/core/interactiveshell.py:3165: DtypeWarning: Columns (6,7,8,9,10,14,15,16,17,18,19) have mixed types.Specify dtype option on import or set low_memory=False.\n",
      "  has_raised = await self.run_ast_nodes(code_ast.body, cell_name,\n"
     ]
    },
    {
     "data": {
      "text/plain": [
       "72947"
      ]
     },
     "execution_count": 4,
     "metadata": {},
     "output_type": "execute_result"
    }
   ],
   "source": [
    "df = pd.read_csv(INPUT_FILE)\n",
    "len(df)"
   ]
  },
  {
   "cell_type": "code",
   "execution_count": 5,
   "id": "f48c9faa",
   "metadata": {},
   "outputs": [
    {
     "data": {
      "text/plain": [
       "70208"
      ]
     },
     "execution_count": 5,
     "metadata": {},
     "output_type": "execute_result"
    }
   ],
   "source": [
    "df = df.dropna()\n",
    "len(df)"
   ]
  },
  {
   "cell_type": "code",
   "execution_count": 6,
   "id": "6632c519",
   "metadata": {},
   "outputs": [],
   "source": [
    "toxic_fields = [\n",
    "    'toxic_score',\n",
    "    'toxic_score.1',   \n",
    "    'toxic_score.2',\n",
    "    'toxic_score.3',    \n",
    "    'toxic_score.4',    \n",
    "]"
   ]
  },
  {
   "cell_type": "code",
   "execution_count": 7,
   "id": "c7262fb2",
   "metadata": {},
   "outputs": [],
   "source": [
    "def get_avg_toxicity(row):\n",
    "    result = sum(row[field] for field in toxic_fields)/20.0\n",
    "    for field in toxic_fields:\n",
    "        diff = abs(row[field]/4.0 - result)\n",
    "        if (diff > 0.2):\n",
    "            return None\n",
    "    return result"
   ]
  },
  {
   "cell_type": "code",
   "execution_count": 8,
   "id": "c3cf5e27",
   "metadata": {},
   "outputs": [],
   "source": [
    "df['avg_toxic_score'] = df.apply (lambda row: get_avg_toxicity(row), axis=1)"
   ]
  },
  {
   "cell_type": "code",
   "execution_count": 9,
   "id": "fa9ecee7",
   "metadata": {},
   "outputs": [
    {
     "data": {
      "text/plain": [
       "27994"
      ]
     },
     "execution_count": 9,
     "metadata": {},
     "output_type": "execute_result"
    }
   ],
   "source": [
    "df = df.dropna()\n",
    "len(df)"
   ]
  },
  {
   "cell_type": "code",
   "execution_count": 10,
   "id": "38ce1867",
   "metadata": {},
   "outputs": [],
   "source": [
    "def get_bucket(row, field):\n",
    "    if (row[field] < 0.6):\n",
    "        return 0.0\n",
    "    elif (row[field] < 0.7):\n",
    "        return 0.6\n",
    "    elif (row[field] < 0.8):\n",
    "        return 0.7\n",
    "    elif (row[field] < 0.9):\n",
    "        return 0.8\n",
    "    else:\n",
    "        return 0.9"
   ]
  },
  {
   "cell_type": "code",
   "execution_count": 11,
   "id": "60e2e400",
   "metadata": {
    "scrolled": true
   },
   "outputs": [],
   "source": [
    "df['avg_toxic_window'] = df.apply(lambda row: get_bucket(row, 'avg_toxic_score'), axis=1)"
   ]
  },
  {
   "cell_type": "code",
   "execution_count": 12,
   "id": "0776f075",
   "metadata": {},
   "outputs": [
    {
     "name": "stdout",
     "output_type": "stream",
     "text": [
      "0.0 27710\n",
      "0.6 111\n",
      "0.7 30\n",
      "0.8 61\n",
      "0.9 82\n"
     ]
    }
   ],
   "source": [
    "myrange = [0.0, 0.6, 0.7, 0.8, 0.9]\n",
    "sampled_dfs = []\n",
    "for ow in myrange:\n",
    "    g = df[df['avg_toxic_window'] == ow]\n",
    "    print (ow, len(g))\n",
    "    sampled_dfs.append(g.sample(4))"
   ]
  },
  {
   "cell_type": "code",
   "execution_count": 13,
   "id": "688b5620",
   "metadata": {},
   "outputs": [],
   "source": [
    "final_df = pd.concat(sampled_dfs)"
   ]
  },
  {
   "cell_type": "code",
   "execution_count": 14,
   "id": "c0bbe1d6",
   "metadata": {},
   "outputs": [],
   "source": [
    "def get_random_date():\n",
    "    random_number_of_days = random.randrange(40)\n",
    "    random_date = datetime.date(2021, 10, 1) + datetime.timedelta(days=random_number_of_days)\n",
    "    return random_date"
   ]
  },
  {
   "cell_type": "code",
   "execution_count": 15,
   "id": "de7719ee",
   "metadata": {},
   "outputs": [],
   "source": [
    "def assignPeripherals(final_df):\n",
    "    final_df = final_df[['comment', 'avg_toxic_score', 'comment_ID']]\n",
    "    \n",
    "    # Set username\n",
    "    usernameDf = pd.read_csv('usernames.csv')\n",
    "    usernames = set(list(usernameDf['username']))\n",
    "    final_df['author'] = df.apply(lambda row: random.sample(usernames, 1)[0], axis=1)\n",
    "    \n",
    "    # Set full name\n",
    "    nameDf = pd.read_csv('random_names.csv')\n",
    "    names = set(list(nameDf['name']))\n",
    "    final_df['author_name'] = df.apply(lambda row: random.sample(names, 1)[0], axis=1)    \n",
    "    \n",
    "    # Set integer fields\n",
    "    final_df['num_likes'] = np.random.randint(1, 100, final_df.shape[0])    \n",
    "    final_df['num_comments'] = np.random.randint(1, 100, final_df.shape[0])    \n",
    "    final_df['num_retweets'] = np.random.randint(1, 100, final_df.shape[0])        \n",
    "    \n",
    "    # Set publication date\n",
    "    final_df['pub_date'] = df.apply(lambda row: get_random_date(), axis=1)\n",
    "    \n",
    "    return final_df"
   ]
  },
  {
   "cell_type": "code",
   "execution_count": 16,
   "id": "0ad30a52",
   "metadata": {},
   "outputs": [
    {
     "name": "stderr",
     "output_type": "stream",
     "text": [
      "<ipython-input-15-61dd48437cb0>:7: SettingWithCopyWarning: \n",
      "A value is trying to be set on a copy of a slice from a DataFrame.\n",
      "Try using .loc[row_indexer,col_indexer] = value instead\n",
      "\n",
      "See the caveats in the documentation: https://pandas.pydata.org/pandas-docs/stable/user_guide/indexing.html#returning-a-view-versus-a-copy\n",
      "  final_df['author'] = df.apply(lambda row: random.sample(usernames, 1)[0], axis=1)\n",
      "<ipython-input-15-61dd48437cb0>:12: SettingWithCopyWarning: \n",
      "A value is trying to be set on a copy of a slice from a DataFrame.\n",
      "Try using .loc[row_indexer,col_indexer] = value instead\n",
      "\n",
      "See the caveats in the documentation: https://pandas.pydata.org/pandas-docs/stable/user_guide/indexing.html#returning-a-view-versus-a-copy\n",
      "  final_df['author_name'] = df.apply(lambda row: random.sample(names, 1)[0], axis=1)\n",
      "<ipython-input-15-61dd48437cb0>:15: SettingWithCopyWarning: \n",
      "A value is trying to be set on a copy of a slice from a DataFrame.\n",
      "Try using .loc[row_indexer,col_indexer] = value instead\n",
      "\n",
      "See the caveats in the documentation: https://pandas.pydata.org/pandas-docs/stable/user_guide/indexing.html#returning-a-view-versus-a-copy\n",
      "  final_df['num_likes'] = np.random.randint(1, 100, final_df.shape[0])\n",
      "<ipython-input-15-61dd48437cb0>:16: SettingWithCopyWarning: \n",
      "A value is trying to be set on a copy of a slice from a DataFrame.\n",
      "Try using .loc[row_indexer,col_indexer] = value instead\n",
      "\n",
      "See the caveats in the documentation: https://pandas.pydata.org/pandas-docs/stable/user_guide/indexing.html#returning-a-view-versus-a-copy\n",
      "  final_df['num_comments'] = np.random.randint(1, 100, final_df.shape[0])\n",
      "<ipython-input-15-61dd48437cb0>:17: SettingWithCopyWarning: \n",
      "A value is trying to be set on a copy of a slice from a DataFrame.\n",
      "Try using .loc[row_indexer,col_indexer] = value instead\n",
      "\n",
      "See the caveats in the documentation: https://pandas.pydata.org/pandas-docs/stable/user_guide/indexing.html#returning-a-view-versus-a-copy\n",
      "  final_df['num_retweets'] = np.random.randint(1, 100, final_df.shape[0])\n",
      "<ipython-input-15-61dd48437cb0>:20: SettingWithCopyWarning: \n",
      "A value is trying to be set on a copy of a slice from a DataFrame.\n",
      "Try using .loc[row_indexer,col_indexer] = value instead\n",
      "\n",
      "See the caveats in the documentation: https://pandas.pydata.org/pandas-docs/stable/user_guide/indexing.html#returning-a-view-versus-a-copy\n",
      "  final_df['pub_date'] = df.apply(lambda row: get_random_date(), axis=1)\n"
     ]
    },
    {
     "data": {
      "text/html": [
       "<div>\n",
       "<style scoped>\n",
       "    .dataframe tbody tr th:only-of-type {\n",
       "        vertical-align: middle;\n",
       "    }\n",
       "\n",
       "    .dataframe tbody tr th {\n",
       "        vertical-align: top;\n",
       "    }\n",
       "\n",
       "    .dataframe thead th {\n",
       "        text-align: right;\n",
       "    }\n",
       "</style>\n",
       "<table border=\"1\" class=\"dataframe\">\n",
       "  <thead>\n",
       "    <tr style=\"text-align: right;\">\n",
       "      <th></th>\n",
       "      <th>comment</th>\n",
       "      <th>avg_toxic_score</th>\n",
       "      <th>comment_ID</th>\n",
       "      <th>author</th>\n",
       "      <th>author_name</th>\n",
       "      <th>num_likes</th>\n",
       "      <th>num_comments</th>\n",
       "      <th>num_retweets</th>\n",
       "      <th>pub_date</th>\n",
       "    </tr>\n",
       "  </thead>\n",
       "  <tbody>\n",
       "    <tr>\n",
       "      <th>5261</th>\n",
       "      <td>We also know that Mueller, per his report cannot connect the IRA aka the trolls to the Russian government. We know no one was indicted for conspiracy between Trump, Trump campaign and Russia</td>\n",
       "      <td>0.00</td>\n",
       "      <td>1548_14</td>\n",
       "      <td>thefrizzyforgiveness</td>\n",
       "      <td>Sydney Adams</td>\n",
       "      <td>20</td>\n",
       "      <td>55</td>\n",
       "      <td>75</td>\n",
       "      <td>2021-10-11</td>\n",
       "    </tr>\n",
       "    <tr>\n",
       "      <th>2822</th>\n",
       "      <td>Quit tweeting at the wee hours of night</td>\n",
       "      <td>0.05</td>\n",
       "      <td>81_21</td>\n",
       "      <td>kosheropposition_47</td>\n",
       "      <td>Lucy Holmes</td>\n",
       "      <td>48</td>\n",
       "      <td>27</td>\n",
       "      <td>26</td>\n",
       "      <td>2021-11-02</td>\n",
       "    </tr>\n",
       "    <tr>\n",
       "      <th>37407</th>\n",
       "      <td>pround of you (·•︠‿•︡ )♡ #부산의아들_강다니엘</td>\n",
       "      <td>0.05</td>\n",
       "      <td>2547_7</td>\n",
       "      <td>PhysicalTendon</td>\n",
       "      <td>Julia Montgomery</td>\n",
       "      <td>81</td>\n",
       "      <td>96</td>\n",
       "      <td>28</td>\n",
       "      <td>2021-10-12</td>\n",
       "    </tr>\n",
       "    <tr>\n",
       "      <th>58647</th>\n",
       "      <td>Kinda pissed off with tealive usj 9</td>\n",
       "      <td>0.05</td>\n",
       "      <td>5659_10</td>\n",
       "      <td>humongous_bingo</td>\n",
       "      <td>Arnold Harper</td>\n",
       "      <td>45</td>\n",
       "      <td>35</td>\n",
       "      <td>12</td>\n",
       "      <td>2021-11-09</td>\n",
       "    </tr>\n",
       "    <tr>\n",
       "      <th>45891</th>\n",
       "      <td>Wtf does this even mean you crack head???</td>\n",
       "      <td>0.65</td>\n",
       "      <td>2475_20</td>\n",
       "      <td>exciting_self-control</td>\n",
       "      <td>Kate Farrell</td>\n",
       "      <td>86</td>\n",
       "      <td>98</td>\n",
       "      <td>99</td>\n",
       "      <td>2021-10-28</td>\n",
       "    </tr>\n",
       "  </tbody>\n",
       "</table>\n",
       "</div>"
      ],
      "text/plain": [
       "                                                                                                                                                                                              comment  \\\n",
       "5261   We also know that Mueller, per his report cannot connect the IRA aka the trolls to the Russian government. We know no one was indicted for conspiracy between Trump, Trump campaign and Russia   \n",
       "2822                                                                                                                                                          Quit tweeting at the wee hours of night   \n",
       "37407                                                                                                                                                            pround of you (·•︠‿•︡ )♡ #부산의아들_강다니엘   \n",
       "58647                                                                                                                                                             Kinda pissed off with tealive usj 9   \n",
       "45891                                                                                                                                                       Wtf does this even mean you crack head???   \n",
       "\n",
       "       avg_toxic_score comment_ID                 author       author_name  \\\n",
       "5261              0.00    1548_14   thefrizzyforgiveness      Sydney Adams   \n",
       "2822              0.05      81_21    kosheropposition_47       Lucy Holmes   \n",
       "37407             0.05     2547_7         PhysicalTendon  Julia Montgomery   \n",
       "58647             0.05    5659_10        humongous_bingo     Arnold Harper   \n",
       "45891             0.65    2475_20  exciting_self-control      Kate Farrell   \n",
       "\n",
       "       num_likes  num_comments  num_retweets    pub_date  \n",
       "5261          20            55            75  2021-10-11  \n",
       "2822          48            27            26  2021-11-02  \n",
       "37407         81            96            28  2021-10-12  \n",
       "58647         45            35            12  2021-11-09  \n",
       "45891         86            98            99  2021-10-28  "
      ]
     },
     "execution_count": 16,
     "metadata": {},
     "output_type": "execute_result"
    }
   ],
   "source": [
    "final_df = assignPeripherals(final_df)\n",
    "final_df.head()"
   ]
  },
  {
   "cell_type": "code",
   "execution_count": 17,
   "id": "18d78ab6",
   "metadata": {},
   "outputs": [],
   "source": [
    "final_df.to_csv('main_comments.csv', index=False)"
   ]
  },
  {
   "cell_type": "code",
   "execution_count": 18,
   "id": "a09c91bc",
   "metadata": {},
   "outputs": [],
   "source": [
    "nontoxic_df = df.query('avg_toxic_window == 0.0')"
   ]
  },
  {
   "cell_type": "code",
   "execution_count": 19,
   "id": "d4253070",
   "metadata": {},
   "outputs": [],
   "source": [
    "nontoxic_sample = nontoxic_df.sample(16)"
   ]
  },
  {
   "cell_type": "code",
   "execution_count": 20,
   "id": "f690bbbf",
   "metadata": {},
   "outputs": [
    {
     "name": "stderr",
     "output_type": "stream",
     "text": [
      "<ipython-input-15-61dd48437cb0>:7: SettingWithCopyWarning: \n",
      "A value is trying to be set on a copy of a slice from a DataFrame.\n",
      "Try using .loc[row_indexer,col_indexer] = value instead\n",
      "\n",
      "See the caveats in the documentation: https://pandas.pydata.org/pandas-docs/stable/user_guide/indexing.html#returning-a-view-versus-a-copy\n",
      "  final_df['author'] = df.apply(lambda row: random.sample(usernames, 1)[0], axis=1)\n",
      "<ipython-input-15-61dd48437cb0>:12: SettingWithCopyWarning: \n",
      "A value is trying to be set on a copy of a slice from a DataFrame.\n",
      "Try using .loc[row_indexer,col_indexer] = value instead\n",
      "\n",
      "See the caveats in the documentation: https://pandas.pydata.org/pandas-docs/stable/user_guide/indexing.html#returning-a-view-versus-a-copy\n",
      "  final_df['author_name'] = df.apply(lambda row: random.sample(names, 1)[0], axis=1)\n",
      "<ipython-input-15-61dd48437cb0>:15: SettingWithCopyWarning: \n",
      "A value is trying to be set on a copy of a slice from a DataFrame.\n",
      "Try using .loc[row_indexer,col_indexer] = value instead\n",
      "\n",
      "See the caveats in the documentation: https://pandas.pydata.org/pandas-docs/stable/user_guide/indexing.html#returning-a-view-versus-a-copy\n",
      "  final_df['num_likes'] = np.random.randint(1, 100, final_df.shape[0])\n",
      "<ipython-input-15-61dd48437cb0>:16: SettingWithCopyWarning: \n",
      "A value is trying to be set on a copy of a slice from a DataFrame.\n",
      "Try using .loc[row_indexer,col_indexer] = value instead\n",
      "\n",
      "See the caveats in the documentation: https://pandas.pydata.org/pandas-docs/stable/user_guide/indexing.html#returning-a-view-versus-a-copy\n",
      "  final_df['num_comments'] = np.random.randint(1, 100, final_df.shape[0])\n",
      "<ipython-input-15-61dd48437cb0>:17: SettingWithCopyWarning: \n",
      "A value is trying to be set on a copy of a slice from a DataFrame.\n",
      "Try using .loc[row_indexer,col_indexer] = value instead\n",
      "\n",
      "See the caveats in the documentation: https://pandas.pydata.org/pandas-docs/stable/user_guide/indexing.html#returning-a-view-versus-a-copy\n",
      "  final_df['num_retweets'] = np.random.randint(1, 100, final_df.shape[0])\n",
      "<ipython-input-15-61dd48437cb0>:20: SettingWithCopyWarning: \n",
      "A value is trying to be set on a copy of a slice from a DataFrame.\n",
      "Try using .loc[row_indexer,col_indexer] = value instead\n",
      "\n",
      "See the caveats in the documentation: https://pandas.pydata.org/pandas-docs/stable/user_guide/indexing.html#returning-a-view-versus-a-copy\n",
      "  final_df['pub_date'] = df.apply(lambda row: get_random_date(), axis=1)\n"
     ]
    },
    {
     "data": {
      "text/html": [
       "<div>\n",
       "<style scoped>\n",
       "    .dataframe tbody tr th:only-of-type {\n",
       "        vertical-align: middle;\n",
       "    }\n",
       "\n",
       "    .dataframe tbody tr th {\n",
       "        vertical-align: top;\n",
       "    }\n",
       "\n",
       "    .dataframe thead th {\n",
       "        text-align: right;\n",
       "    }\n",
       "</style>\n",
       "<table border=\"1\" class=\"dataframe\">\n",
       "  <thead>\n",
       "    <tr style=\"text-align: right;\">\n",
       "      <th></th>\n",
       "      <th>comment</th>\n",
       "      <th>avg_toxic_score</th>\n",
       "      <th>comment_ID</th>\n",
       "      <th>author</th>\n",
       "      <th>author_name</th>\n",
       "      <th>num_likes</th>\n",
       "      <th>num_comments</th>\n",
       "      <th>num_retweets</th>\n",
       "      <th>pub_date</th>\n",
       "    </tr>\n",
       "  </thead>\n",
       "  <tbody>\n",
       "    <tr>\n",
       "      <th>47014</th>\n",
       "      <td>Yoooo she’s dope!! Need art done hit her up</td>\n",
       "      <td>0.00</td>\n",
       "      <td>4849_11</td>\n",
       "      <td>thecrispmetaphysics</td>\n",
       "      <td>Madaline Douglas</td>\n",
       "      <td>48</td>\n",
       "      <td>90</td>\n",
       "      <td>32</td>\n",
       "      <td>2021-10-25</td>\n",
       "    </tr>\n",
       "    <tr>\n",
       "      <th>13780</th>\n",
       "      <td>You not ever gon catch me doing too much on social media.</td>\n",
       "      <td>0.05</td>\n",
       "      <td>1456_17</td>\n",
       "      <td>PM_ME_YOUR_MAYORS</td>\n",
       "      <td>Emily Roberts</td>\n",
       "      <td>69</td>\n",
       "      <td>55</td>\n",
       "      <td>47</td>\n",
       "      <td>2021-11-09</td>\n",
       "    </tr>\n",
       "    <tr>\n",
       "      <th>3071</th>\n",
       "      <td>You said to be responsible.. so wouldn't the responsible choice be to tell Mom and Dad? Or maybe that would be the stupid choice..</td>\n",
       "      <td>0.00</td>\n",
       "      <td>1008_11</td>\n",
       "      <td>high_and_mighty</td>\n",
       "      <td>Connie Owens</td>\n",
       "      <td>65</td>\n",
       "      <td>47</td>\n",
       "      <td>73</td>\n",
       "      <td>2021-10-30</td>\n",
       "    </tr>\n",
       "    <tr>\n",
       "      <th>22024</th>\n",
       "      <td>I cheer for the #SuperEagles in the #TotalAFCON2019 against South Africa 🇿🇦! Go Nigeria! #NGARSA #FootballTogether</td>\n",
       "      <td>0.00</td>\n",
       "      <td>840_23</td>\n",
       "      <td>feeble_cynicism</td>\n",
       "      <td>Honey Crawford</td>\n",
       "      <td>95</td>\n",
       "      <td>62</td>\n",
       "      <td>49</td>\n",
       "      <td>2021-11-03</td>\n",
       "    </tr>\n",
       "    <tr>\n",
       "      <th>34297</th>\n",
       "      <td>I did the creamer last week and they brought it back again this week. Limited number of uses for the the Ritz I think</td>\n",
       "      <td>0.00</td>\n",
       "      <td>2695_13</td>\n",
       "      <td>high_and_mighty</td>\n",
       "      <td>Tara Higgins</td>\n",
       "      <td>1</td>\n",
       "      <td>76</td>\n",
       "      <td>44</td>\n",
       "      <td>2021-10-23</td>\n",
       "    </tr>\n",
       "  </tbody>\n",
       "</table>\n",
       "</div>"
      ],
      "text/plain": [
       "                                                                                                                                  comment  \\\n",
       "47014                                                                                         Yoooo she’s dope!! Need art done hit her up   \n",
       "13780                                                                           You not ever gon catch me doing too much on social media.   \n",
       "3071   You said to be responsible.. so wouldn't the responsible choice be to tell Mom and Dad? Or maybe that would be the stupid choice..   \n",
       "22024                  I cheer for the #SuperEagles in the #TotalAFCON2019 against South Africa 🇿🇦! Go Nigeria! #NGARSA #FootballTogether   \n",
       "34297               I did the creamer last week and they brought it back again this week. Limited number of uses for the the Ritz I think   \n",
       "\n",
       "       avg_toxic_score comment_ID               author       author_name  \\\n",
       "47014             0.00    4849_11  thecrispmetaphysics  Madaline Douglas   \n",
       "13780             0.05    1456_17    PM_ME_YOUR_MAYORS     Emily Roberts   \n",
       "3071              0.00    1008_11      high_and_mighty      Connie Owens   \n",
       "22024             0.00     840_23      feeble_cynicism    Honey Crawford   \n",
       "34297             0.00    2695_13      high_and_mighty      Tara Higgins   \n",
       "\n",
       "       num_likes  num_comments  num_retweets    pub_date  \n",
       "47014         48            90            32  2021-10-25  \n",
       "13780         69            55            47  2021-11-09  \n",
       "3071          65            47            73  2021-10-30  \n",
       "22024         95            62            49  2021-11-03  \n",
       "34297          1            76            44  2021-10-23  "
      ]
     },
     "execution_count": 20,
     "metadata": {},
     "output_type": "execute_result"
    }
   ],
   "source": [
    "nontoxic_sample = assignPeripherals(nontoxic_sample)\n",
    "nontoxic_sample.head()"
   ]
  },
  {
   "cell_type": "code",
   "execution_count": 21,
   "id": "411c564e",
   "metadata": {},
   "outputs": [],
   "source": [
    "nontoxic_sample.to_csv('nontoxic_comments.csv', index=False)"
   ]
  }
 ],
 "metadata": {
  "kernelspec": {
   "display_name": "Python 3",
   "language": "python",
   "name": "python3"
  },
  "language_info": {
   "codemirror_mode": {
    "name": "ipython",
    "version": 3
   },
   "file_extension": ".py",
   "mimetype": "text/x-python",
   "name": "python",
   "nbconvert_exporter": "python",
   "pygments_lexer": "ipython3",
   "version": "3.8.8"
  }
 },
 "nbformat": 4,
 "nbformat_minor": 5
}
