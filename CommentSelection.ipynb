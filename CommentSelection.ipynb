{
 "cells": [
  {
   "cell_type": "code",
   "execution_count": 1,
   "id": "efc4c198",
   "metadata": {},
   "outputs": [],
   "source": [
    "import pandas as pd\n",
    "import random\n",
    "import numpy as np\n",
    "import datetime"
   ]
  },
  {
   "cell_type": "code",
   "execution_count": 2,
   "id": "33517232",
   "metadata": {},
   "outputs": [],
   "source": [
    "pd.set_option('display.max_colwidth', None)"
   ]
  },
  {
   "cell_type": "code",
   "execution_count": 3,
   "id": "cdc0c7d4",
   "metadata": {},
   "outputs": [],
   "source": [
    "INPUT_FILE = '../toxicity_ratings - twitter.csv'"
   ]
  },
  {
   "cell_type": "code",
   "execution_count": 4,
   "id": "8a6797c3",
   "metadata": {
    "scrolled": false
   },
   "outputs": [
    {
     "name": "stderr",
     "output_type": "stream",
     "text": [
      "/Users/shagunjhaver/opt/anaconda3/lib/python3.8/site-packages/IPython/core/interactiveshell.py:3165: DtypeWarning: Columns (6,7,8,9,10,14,15,16,17,18,19) have mixed types.Specify dtype option on import or set low_memory=False.\n",
      "  has_raised = await self.run_ast_nodes(code_ast.body, cell_name,\n"
     ]
    },
    {
     "data": {
      "text/plain": [
       "72947"
      ]
     },
     "execution_count": 4,
     "metadata": {},
     "output_type": "execute_result"
    }
   ],
   "source": [
    "df = pd.read_csv(INPUT_FILE)\n",
    "len(df)"
   ]
  },
  {
   "cell_type": "code",
   "execution_count": 5,
   "id": "f48c9faa",
   "metadata": {},
   "outputs": [
    {
     "data": {
      "text/plain": [
       "70208"
      ]
     },
     "execution_count": 5,
     "metadata": {},
     "output_type": "execute_result"
    }
   ],
   "source": [
    "df = df.dropna()\n",
    "len(df)"
   ]
  },
  {
   "cell_type": "code",
   "execution_count": 6,
   "id": "6632c519",
   "metadata": {},
   "outputs": [],
   "source": [
    "toxic_fields = [\n",
    "    'toxic_score',\n",
    "    'toxic_score.1',   \n",
    "    'toxic_score.2',\n",
    "    'toxic_score.3',    \n",
    "    'toxic_score.4',    \n",
    "]"
   ]
  },
  {
   "cell_type": "code",
   "execution_count": 7,
   "id": "c7262fb2",
   "metadata": {},
   "outputs": [],
   "source": [
    "def get_avg_toxicity(row):\n",
    "    myList = [row[field] for field in toxic_fields]\n",
    "    result = sum(myList)/20.0\n",
    "    for field in toxic_fields:\n",
    "        maxValue = max(myList)\n",
    "        minValue = min(myList)\n",
    "        if (maxValue - minValue > 1):\n",
    "            return None\n",
    "    return result"
   ]
  },
  {
   "cell_type": "code",
   "execution_count": 8,
   "id": "c3cf5e27",
   "metadata": {},
   "outputs": [],
   "source": [
    "df['avg_toxic_score'] = df.apply (lambda row: get_avg_toxicity(row), axis=1)"
   ]
  },
  {
   "cell_type": "code",
   "execution_count": 9,
   "id": "fa9ecee7",
   "metadata": {},
   "outputs": [
    {
     "data": {
      "text/plain": [
       "27994"
      ]
     },
     "execution_count": 9,
     "metadata": {},
     "output_type": "execute_result"
    }
   ],
   "source": [
    "df = df.dropna()\n",
    "len(df)"
   ]
  },
  {
   "cell_type": "code",
   "execution_count": 10,
   "id": "38ce1867",
   "metadata": {},
   "outputs": [],
   "source": [
    "def get_bucket(row, field):\n",
    "    if (row[field] <= 0.2):\n",
    "        return 0.0\n",
    "    elif (row[field] < 0.4):\n",
    "        return 0.2\n",
    "    elif (row[field] < 0.6):\n",
    "        return 0.4\n",
    "    elif (row[field] < 0.8):\n",
    "        return 0.6\n",
    "    else:\n",
    "        return 0.8"
   ]
  },
  {
   "cell_type": "code",
   "execution_count": 11,
   "id": "60e2e400",
   "metadata": {
    "scrolled": true
   },
   "outputs": [],
   "source": [
    "df['avg_toxic_window'] = df.apply(lambda row: get_bucket(row, 'avg_toxic_score'), axis=1)"
   ]
  },
  {
   "cell_type": "code",
   "execution_count": 12,
   "id": "0776f075",
   "metadata": {},
   "outputs": [
    {
     "name": "stdout",
     "output_type": "stream",
     "text": [
      "0.2 599\n",
      "0.4 356\n",
      "0.6 141\n",
      "0.8 143\n"
     ]
    }
   ],
   "source": [
    "myrange = [0.2, 0.4, 0.6, 0.8]\n",
    "sampled_dfs = []\n",
    "for ow in myrange:\n",
    "    g = df[df['avg_toxic_window'] == ow]\n",
    "    print (ow, len(g))\n",
    "    sampled_dfs.append(g.sample(20))"
   ]
  },
  {
   "cell_type": "code",
   "execution_count": 13,
   "id": "688b5620",
   "metadata": {},
   "outputs": [],
   "source": [
    "final_df = pd.concat(sampled_dfs)"
   ]
  },
  {
   "cell_type": "code",
   "execution_count": 14,
   "id": "c0bbe1d6",
   "metadata": {},
   "outputs": [],
   "source": [
    "def get_random_date():\n",
    "    random_number_of_days = random.randrange(10)\n",
    "    random_date = datetime.date(2021, 10, 1) + datetime.timedelta(days=random_number_of_days)\n",
    "    return random_date"
   ]
  },
  {
   "cell_type": "code",
   "execution_count": 15,
   "id": "de7719ee",
   "metadata": {},
   "outputs": [],
   "source": [
    "def assignPeripherals(final_df):\n",
    "    final_df = final_df[['comment', 'avg_toxic_score', 'comment_ID']]\n",
    "    \n",
    "    # Set username\n",
    "    usernameDf = pd.read_csv('usernames.csv')\n",
    "    usernames = set(list(usernameDf['username']))\n",
    "    final_df['author'] = df.apply(lambda row: random.sample(usernames, 1)[0], axis=1)\n",
    "    \n",
    "    # Set full name\n",
    "    nameDf = pd.read_csv('random_names.csv')\n",
    "    names = set(list(nameDf['name']))\n",
    "    final_df['author_name'] = df.apply(lambda row: random.sample(names, 1)[0], axis=1)    \n",
    "    \n",
    "    # Set integer fields\n",
    "    final_df['num_likes'] = np.random.randint(1, 100, final_df.shape[0])    \n",
    "    final_df['num_comments'] = np.random.randint(1, 100, final_df.shape[0])    \n",
    "    final_df['num_retweets'] = np.random.randint(1, 100, final_df.shape[0])        \n",
    "    \n",
    "    # Set publication date\n",
    "    final_df['pub_date'] = df.apply(lambda row: get_random_date(), axis=1)\n",
    "    \n",
    "    return final_df"
   ]
  },
  {
   "cell_type": "code",
   "execution_count": 16,
   "id": "0ad30a52",
   "metadata": {},
   "outputs": [
    {
     "name": "stderr",
     "output_type": "stream",
     "text": [
      "<ipython-input-15-61dd48437cb0>:7: SettingWithCopyWarning: \n",
      "A value is trying to be set on a copy of a slice from a DataFrame.\n",
      "Try using .loc[row_indexer,col_indexer] = value instead\n",
      "\n",
      "See the caveats in the documentation: https://pandas.pydata.org/pandas-docs/stable/user_guide/indexing.html#returning-a-view-versus-a-copy\n",
      "  final_df['author'] = df.apply(lambda row: random.sample(usernames, 1)[0], axis=1)\n",
      "<ipython-input-15-61dd48437cb0>:12: SettingWithCopyWarning: \n",
      "A value is trying to be set on a copy of a slice from a DataFrame.\n",
      "Try using .loc[row_indexer,col_indexer] = value instead\n",
      "\n",
      "See the caveats in the documentation: https://pandas.pydata.org/pandas-docs/stable/user_guide/indexing.html#returning-a-view-versus-a-copy\n",
      "  final_df['author_name'] = df.apply(lambda row: random.sample(names, 1)[0], axis=1)\n",
      "<ipython-input-15-61dd48437cb0>:15: SettingWithCopyWarning: \n",
      "A value is trying to be set on a copy of a slice from a DataFrame.\n",
      "Try using .loc[row_indexer,col_indexer] = value instead\n",
      "\n",
      "See the caveats in the documentation: https://pandas.pydata.org/pandas-docs/stable/user_guide/indexing.html#returning-a-view-versus-a-copy\n",
      "  final_df['num_likes'] = np.random.randint(1, 100, final_df.shape[0])\n",
      "<ipython-input-15-61dd48437cb0>:16: SettingWithCopyWarning: \n",
      "A value is trying to be set on a copy of a slice from a DataFrame.\n",
      "Try using .loc[row_indexer,col_indexer] = value instead\n",
      "\n",
      "See the caveats in the documentation: https://pandas.pydata.org/pandas-docs/stable/user_guide/indexing.html#returning-a-view-versus-a-copy\n",
      "  final_df['num_comments'] = np.random.randint(1, 100, final_df.shape[0])\n",
      "<ipython-input-15-61dd48437cb0>:17: SettingWithCopyWarning: \n",
      "A value is trying to be set on a copy of a slice from a DataFrame.\n",
      "Try using .loc[row_indexer,col_indexer] = value instead\n",
      "\n",
      "See the caveats in the documentation: https://pandas.pydata.org/pandas-docs/stable/user_guide/indexing.html#returning-a-view-versus-a-copy\n",
      "  final_df['num_retweets'] = np.random.randint(1, 100, final_df.shape[0])\n",
      "<ipython-input-15-61dd48437cb0>:20: SettingWithCopyWarning: \n",
      "A value is trying to be set on a copy of a slice from a DataFrame.\n",
      "Try using .loc[row_indexer,col_indexer] = value instead\n",
      "\n",
      "See the caveats in the documentation: https://pandas.pydata.org/pandas-docs/stable/user_guide/indexing.html#returning-a-view-versus-a-copy\n",
      "  final_df['pub_date'] = df.apply(lambda row: get_random_date(), axis=1)\n"
     ]
    },
    {
     "data": {
      "text/html": [
       "<div>\n",
       "<style scoped>\n",
       "    .dataframe tbody tr th:only-of-type {\n",
       "        vertical-align: middle;\n",
       "    }\n",
       "\n",
       "    .dataframe tbody tr th {\n",
       "        vertical-align: top;\n",
       "    }\n",
       "\n",
       "    .dataframe thead th {\n",
       "        text-align: right;\n",
       "    }\n",
       "</style>\n",
       "<table border=\"1\" class=\"dataframe\">\n",
       "  <thead>\n",
       "    <tr style=\"text-align: right;\">\n",
       "      <th></th>\n",
       "      <th>comment</th>\n",
       "      <th>avg_toxic_score</th>\n",
       "      <th>comment_ID</th>\n",
       "      <th>author</th>\n",
       "      <th>author_name</th>\n",
       "      <th>num_likes</th>\n",
       "      <th>num_comments</th>\n",
       "      <th>num_retweets</th>\n",
       "      <th>pub_date</th>\n",
       "    </tr>\n",
       "  </thead>\n",
       "  <tbody>\n",
       "    <tr>\n",
       "      <th>27991</th>\n",
       "      <td>SHOULD BE A LAW THAT OLD PEOPLE WEAR BRAS after all YOUR HUSBAND WEARS A GIRDLE</td>\n",
       "      <td>0.35</td>\n",
       "      <td>3162_16</td>\n",
       "      <td>ValiantlyThorough</td>\n",
       "      <td>Kirsten Grant</td>\n",
       "      <td>96</td>\n",
       "      <td>58</td>\n",
       "      <td>50</td>\n",
       "      <td>2021-10-07</td>\n",
       "    </tr>\n",
       "    <tr>\n",
       "      <th>43907</th>\n",
       "      <td>You don’t feel for the 80+ children? What a pig you are president Don the con.</td>\n",
       "      <td>0.30</td>\n",
       "      <td>2226_18</td>\n",
       "      <td>meaningfully_usable_airtime</td>\n",
       "      <td>Roland Payne</td>\n",
       "      <td>30</td>\n",
       "      <td>51</td>\n",
       "      <td>4</td>\n",
       "      <td>2021-10-08</td>\n",
       "    </tr>\n",
       "    <tr>\n",
       "      <th>52658</th>\n",
       "      <td>Oh trust me Trump is killing everything here. That will be next</td>\n",
       "      <td>0.30</td>\n",
       "      <td>5707_17</td>\n",
       "      <td>oblivious_transmitter</td>\n",
       "      <td>Tyler Dixon</td>\n",
       "      <td>46</td>\n",
       "      <td>2</td>\n",
       "      <td>28</td>\n",
       "      <td>2021-10-05</td>\n",
       "    </tr>\n",
       "    <tr>\n",
       "      <th>12626</th>\n",
       "      <td>Banter comes with sports. If you're losing sleep over what someone had to say on social media then you have issues. What did you think we weren't gonna talk shit? It's the softies like you that can't take it and go fishing for screenshots.</td>\n",
       "      <td>0.35</td>\n",
       "      <td>916_17</td>\n",
       "      <td>DisgustingPermission</td>\n",
       "      <td>Tara Higgins</td>\n",
       "      <td>93</td>\n",
       "      <td>48</td>\n",
       "      <td>12</td>\n",
       "      <td>2021-10-06</td>\n",
       "    </tr>\n",
       "    <tr>\n",
       "      <th>53670</th>\n",
       "      <td>Liberals just can't get any Dumber! Oh Wait !</td>\n",
       "      <td>0.25</td>\n",
       "      <td>4839_20</td>\n",
       "      <td>HushedQuorum</td>\n",
       "      <td>Owen Adams</td>\n",
       "      <td>71</td>\n",
       "      <td>38</td>\n",
       "      <td>64</td>\n",
       "      <td>2021-10-08</td>\n",
       "    </tr>\n",
       "  </tbody>\n",
       "</table>\n",
       "</div>"
      ],
      "text/plain": [
       "                                                                                                                                                                                                                                               comment  \\\n",
       "27991                                                                                                                                                                  SHOULD BE A LAW THAT OLD PEOPLE WEAR BRAS after all YOUR HUSBAND WEARS A GIRDLE   \n",
       "43907                                                                                                                                                                   You don’t feel for the 80+ children? What a pig you are president Don the con.   \n",
       "52658                                                                                                                                                                                  Oh trust me Trump is killing everything here. That will be next   \n",
       "12626  Banter comes with sports. If you're losing sleep over what someone had to say on social media then you have issues. What did you think we weren't gonna talk shit? It's the softies like you that can't take it and go fishing for screenshots.   \n",
       "53670                                                                                                                                                                                                    Liberals just can't get any Dumber! Oh Wait !   \n",
       "\n",
       "       avg_toxic_score comment_ID                       author    author_name  \\\n",
       "27991             0.35    3162_16            ValiantlyThorough  Kirsten Grant   \n",
       "43907             0.30    2226_18  meaningfully_usable_airtime   Roland Payne   \n",
       "52658             0.30    5707_17        oblivious_transmitter    Tyler Dixon   \n",
       "12626             0.35     916_17         DisgustingPermission   Tara Higgins   \n",
       "53670             0.25    4839_20                 HushedQuorum     Owen Adams   \n",
       "\n",
       "       num_likes  num_comments  num_retweets    pub_date  \n",
       "27991         96            58            50  2021-10-07  \n",
       "43907         30            51             4  2021-10-08  \n",
       "52658         46             2            28  2021-10-05  \n",
       "12626         93            48            12  2021-10-06  \n",
       "53670         71            38            64  2021-10-08  "
      ]
     },
     "execution_count": 16,
     "metadata": {},
     "output_type": "execute_result"
    }
   ],
   "source": [
    "final_df = assignPeripherals(final_df)\n",
    "final_df.head()"
   ]
  },
  {
   "cell_type": "code",
   "execution_count": 17,
   "id": "18d78ab6",
   "metadata": {},
   "outputs": [],
   "source": [
    "final_df = final_df.sample(frac=1).reset_index(drop=True)\n",
    "final_df.to_csv('main_comments.csv', index=False)"
   ]
  },
  {
   "cell_type": "code",
   "execution_count": 18,
   "id": "a09c91bc",
   "metadata": {},
   "outputs": [],
   "source": [
    "nontoxic_df = df.query('avg_toxic_window == 0.0')"
   ]
  },
  {
   "cell_type": "code",
   "execution_count": 19,
   "id": "d4253070",
   "metadata": {},
   "outputs": [],
   "source": [
    "nontoxic_sample = nontoxic_df.sample(30)"
   ]
  },
  {
   "cell_type": "code",
   "execution_count": 20,
   "id": "f690bbbf",
   "metadata": {},
   "outputs": [
    {
     "name": "stderr",
     "output_type": "stream",
     "text": [
      "<ipython-input-15-61dd48437cb0>:7: SettingWithCopyWarning: \n",
      "A value is trying to be set on a copy of a slice from a DataFrame.\n",
      "Try using .loc[row_indexer,col_indexer] = value instead\n",
      "\n",
      "See the caveats in the documentation: https://pandas.pydata.org/pandas-docs/stable/user_guide/indexing.html#returning-a-view-versus-a-copy\n",
      "  final_df['author'] = df.apply(lambda row: random.sample(usernames, 1)[0], axis=1)\n",
      "<ipython-input-15-61dd48437cb0>:12: SettingWithCopyWarning: \n",
      "A value is trying to be set on a copy of a slice from a DataFrame.\n",
      "Try using .loc[row_indexer,col_indexer] = value instead\n",
      "\n",
      "See the caveats in the documentation: https://pandas.pydata.org/pandas-docs/stable/user_guide/indexing.html#returning-a-view-versus-a-copy\n",
      "  final_df['author_name'] = df.apply(lambda row: random.sample(names, 1)[0], axis=1)\n",
      "<ipython-input-15-61dd48437cb0>:15: SettingWithCopyWarning: \n",
      "A value is trying to be set on a copy of a slice from a DataFrame.\n",
      "Try using .loc[row_indexer,col_indexer] = value instead\n",
      "\n",
      "See the caveats in the documentation: https://pandas.pydata.org/pandas-docs/stable/user_guide/indexing.html#returning-a-view-versus-a-copy\n",
      "  final_df['num_likes'] = np.random.randint(1, 100, final_df.shape[0])\n",
      "<ipython-input-15-61dd48437cb0>:16: SettingWithCopyWarning: \n",
      "A value is trying to be set on a copy of a slice from a DataFrame.\n",
      "Try using .loc[row_indexer,col_indexer] = value instead\n",
      "\n",
      "See the caveats in the documentation: https://pandas.pydata.org/pandas-docs/stable/user_guide/indexing.html#returning-a-view-versus-a-copy\n",
      "  final_df['num_comments'] = np.random.randint(1, 100, final_df.shape[0])\n",
      "<ipython-input-15-61dd48437cb0>:17: SettingWithCopyWarning: \n",
      "A value is trying to be set on a copy of a slice from a DataFrame.\n",
      "Try using .loc[row_indexer,col_indexer] = value instead\n",
      "\n",
      "See the caveats in the documentation: https://pandas.pydata.org/pandas-docs/stable/user_guide/indexing.html#returning-a-view-versus-a-copy\n",
      "  final_df['num_retweets'] = np.random.randint(1, 100, final_df.shape[0])\n",
      "<ipython-input-15-61dd48437cb0>:20: SettingWithCopyWarning: \n",
      "A value is trying to be set on a copy of a slice from a DataFrame.\n",
      "Try using .loc[row_indexer,col_indexer] = value instead\n",
      "\n",
      "See the caveats in the documentation: https://pandas.pydata.org/pandas-docs/stable/user_guide/indexing.html#returning-a-view-versus-a-copy\n",
      "  final_df['pub_date'] = df.apply(lambda row: get_random_date(), axis=1)\n"
     ]
    },
    {
     "data": {
      "text/html": [
       "<div>\n",
       "<style scoped>\n",
       "    .dataframe tbody tr th:only-of-type {\n",
       "        vertical-align: middle;\n",
       "    }\n",
       "\n",
       "    .dataframe tbody tr th {\n",
       "        vertical-align: top;\n",
       "    }\n",
       "\n",
       "    .dataframe thead th {\n",
       "        text-align: right;\n",
       "    }\n",
       "</style>\n",
       "<table border=\"1\" class=\"dataframe\">\n",
       "  <thead>\n",
       "    <tr style=\"text-align: right;\">\n",
       "      <th></th>\n",
       "      <th>comment</th>\n",
       "      <th>avg_toxic_score</th>\n",
       "      <th>comment_ID</th>\n",
       "      <th>author</th>\n",
       "      <th>author_name</th>\n",
       "      <th>num_likes</th>\n",
       "      <th>num_comments</th>\n",
       "      <th>num_retweets</th>\n",
       "      <th>pub_date</th>\n",
       "    </tr>\n",
       "  </thead>\n",
       "  <tbody>\n",
       "    <tr>\n",
       "      <th>10994</th>\n",
       "      <td>😳😳 what if i build you a minecraft house where we can see the sun going down and zombies can't reach us AND we're both girls... ha ha just kidding... unless??</td>\n",
       "      <td>0.00</td>\n",
       "      <td>1199_8</td>\n",
       "      <td>elasticoperation</td>\n",
       "      <td>Victor Harper</td>\n",
       "      <td>34</td>\n",
       "      <td>23</td>\n",
       "      <td>64</td>\n",
       "      <td>2021-10-07</td>\n",
       "    </tr>\n",
       "    <tr>\n",
       "      <th>66491</th>\n",
       "      <td>Can't wait for season two!!! 🥰🥰🥰</td>\n",
       "      <td>0.00</td>\n",
       "      <td>4294_22</td>\n",
       "      <td>PM_ME_YOUR_MAYORS</td>\n",
       "      <td>Steven Craig</td>\n",
       "      <td>74</td>\n",
       "      <td>89</td>\n",
       "      <td>85</td>\n",
       "      <td>2021-10-10</td>\n",
       "    </tr>\n",
       "    <tr>\n",
       "      <th>51253</th>\n",
       "      <td>Young everybody in here crying 😭😭😭....Awwww🥴</td>\n",
       "      <td>0.05</td>\n",
       "      <td>5206_21</td>\n",
       "      <td>depressedgallantry09</td>\n",
       "      <td>Arianna Evans</td>\n",
       "      <td>40</td>\n",
       "      <td>48</td>\n",
       "      <td>77</td>\n",
       "      <td>2021-10-01</td>\n",
       "    </tr>\n",
       "    <tr>\n",
       "      <th>60261</th>\n",
       "      <td>Iran may STRIKE at Imperialist powers by collecting toll in Hormuz Strait @FortRussNews</td>\n",
       "      <td>0.05</td>\n",
       "      <td>5288_22</td>\n",
       "      <td>orderly_reviewer</td>\n",
       "      <td>Tyler Dixon</td>\n",
       "      <td>65</td>\n",
       "      <td>35</td>\n",
       "      <td>75</td>\n",
       "      <td>2021-10-02</td>\n",
       "    </tr>\n",
       "    <tr>\n",
       "      <th>14682</th>\n",
       "      <td>You are my sunshine My only sunshine You make me happy When skies are gray You’ll never know dear, How much I loV̵̤̹͔̐̓̍̾̅e you</td>\n",
       "      <td>0.00</td>\n",
       "      <td>170_1</td>\n",
       "      <td>depressedgallantry09</td>\n",
       "      <td>Adelaide Harrison</td>\n",
       "      <td>57</td>\n",
       "      <td>94</td>\n",
       "      <td>66</td>\n",
       "      <td>2021-10-03</td>\n",
       "    </tr>\n",
       "  </tbody>\n",
       "</table>\n",
       "</div>"
      ],
      "text/plain": [
       "                                                                                                                                                              comment  \\\n",
       "10994  😳😳 what if i build you a minecraft house where we can see the sun going down and zombies can't reach us AND we're both girls... ha ha just kidding... unless??   \n",
       "66491                                                                                                                                Can't wait for season two!!! 🥰🥰🥰   \n",
       "51253                                                                                                                    Young everybody in here crying 😭😭😭....Awwww🥴   \n",
       "60261                                                                         Iran may STRIKE at Imperialist powers by collecting toll in Hormuz Strait @FortRussNews   \n",
       "14682                                 You are my sunshine My only sunshine You make me happy When skies are gray You’ll never know dear, How much I loV̵̤̹͔̐̓̍̾̅e you   \n",
       "\n",
       "       avg_toxic_score comment_ID                author        author_name  \\\n",
       "10994             0.00     1199_8      elasticoperation      Victor Harper   \n",
       "66491             0.00    4294_22     PM_ME_YOUR_MAYORS       Steven Craig   \n",
       "51253             0.05    5206_21  depressedgallantry09      Arianna Evans   \n",
       "60261             0.05    5288_22      orderly_reviewer        Tyler Dixon   \n",
       "14682             0.00      170_1  depressedgallantry09  Adelaide Harrison   \n",
       "\n",
       "       num_likes  num_comments  num_retweets    pub_date  \n",
       "10994         34            23            64  2021-10-07  \n",
       "66491         74            89            85  2021-10-10  \n",
       "51253         40            48            77  2021-10-01  \n",
       "60261         65            35            75  2021-10-02  \n",
       "14682         57            94            66  2021-10-03  "
      ]
     },
     "execution_count": 20,
     "metadata": {},
     "output_type": "execute_result"
    }
   ],
   "source": [
    "nontoxic_sample = assignPeripherals(nontoxic_sample)\n",
    "nontoxic_sample.head()"
   ]
  },
  {
   "cell_type": "code",
   "execution_count": 21,
   "id": "411c564e",
   "metadata": {},
   "outputs": [],
   "source": [
    "nontoxic_sample.to_csv('nontoxic_comments.csv', index=False)"
   ]
  }
 ],
 "metadata": {
  "kernelspec": {
   "display_name": "Python 3",
   "language": "python",
   "name": "python3"
  },
  "language_info": {
   "codemirror_mode": {
    "name": "ipython",
    "version": 3
   },
   "file_extension": ".py",
   "mimetype": "text/x-python",
   "name": "python",
   "nbconvert_exporter": "python",
   "pygments_lexer": "ipython3",
   "version": "3.8.8"
  }
 },
 "nbformat": 4,
 "nbformat_minor": 5
}
