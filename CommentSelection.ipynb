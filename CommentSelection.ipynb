{
 "cells": [
  {
   "cell_type": "code",
   "execution_count": 1,
   "id": "efc4c198",
   "metadata": {},
   "outputs": [],
   "source": [
    "import pandas as pd\n",
    "import random\n",
    "import numpy as np\n",
    "import datetime"
   ]
  },
  {
   "cell_type": "code",
   "execution_count": 2,
   "id": "33517232",
   "metadata": {},
   "outputs": [],
   "source": [
    "pd.set_option('display.max_colwidth', None)"
   ]
  },
  {
   "cell_type": "code",
   "execution_count": 3,
   "id": "cdc0c7d4",
   "metadata": {},
   "outputs": [],
   "source": [
    "INPUT_FILE = '../toxicity_ratings - twitter.csv'"
   ]
  },
  {
   "cell_type": "code",
   "execution_count": 4,
   "id": "8a6797c3",
   "metadata": {
    "scrolled": false
   },
   "outputs": [
    {
     "name": "stderr",
     "output_type": "stream",
     "text": [
      "/Users/shagunjhaver/opt/anaconda3/lib/python3.8/site-packages/IPython/core/interactiveshell.py:3165: DtypeWarning: Columns (6,7,8,9,10,14,15,16,17,18,19) have mixed types.Specify dtype option on import or set low_memory=False.\n",
      "  has_raised = await self.run_ast_nodes(code_ast.body, cell_name,\n"
     ]
    },
    {
     "data": {
      "text/plain": [
       "72947"
      ]
     },
     "execution_count": 4,
     "metadata": {},
     "output_type": "execute_result"
    }
   ],
   "source": [
    "df = pd.read_csv(INPUT_FILE)\n",
    "len(df)"
   ]
  },
  {
   "cell_type": "code",
   "execution_count": 5,
   "id": "f48c9faa",
   "metadata": {},
   "outputs": [
    {
     "data": {
      "text/plain": [
       "70208"
      ]
     },
     "execution_count": 5,
     "metadata": {},
     "output_type": "execute_result"
    }
   ],
   "source": [
    "df = df.dropna()\n",
    "len(df)"
   ]
  },
  {
   "cell_type": "code",
   "execution_count": 6,
   "id": "6632c519",
   "metadata": {},
   "outputs": [],
   "source": [
    "toxic_fields = [\n",
    "    'toxic_score',\n",
    "    'toxic_score.1',   \n",
    "    'toxic_score.2',\n",
    "    'toxic_score.3',    \n",
    "    'toxic_score.4',    \n",
    "]"
   ]
  },
  {
   "cell_type": "code",
   "execution_count": 8,
   "id": "c7262fb2",
   "metadata": {},
   "outputs": [],
   "source": [
    "def get_avg_toxicity(row):\n",
    "    myList = [row[field] for field in toxic_fields]\n",
    "    result = sum(myList)/20.0\n",
    "    for field in toxic_fields:\n",
    "        maxValue = max(myList)\n",
    "        minValue = min(myList)\n",
    "        if (maxValue - minValue > 1):\n",
    "            return None\n",
    "    return result"
   ]
  },
  {
   "cell_type": "code",
   "execution_count": 9,
   "id": "c3cf5e27",
   "metadata": {},
   "outputs": [],
   "source": [
    "df['avg_toxic_score'] = df.apply (lambda row: get_avg_toxicity(row), axis=1)"
   ]
  },
  {
   "cell_type": "code",
   "execution_count": 10,
   "id": "fa9ecee7",
   "metadata": {},
   "outputs": [
    {
     "data": {
      "text/plain": [
       "27994"
      ]
     },
     "execution_count": 10,
     "metadata": {},
     "output_type": "execute_result"
    }
   ],
   "source": [
    "df = df.dropna()\n",
    "len(df)"
   ]
  },
  {
   "cell_type": "code",
   "execution_count": 11,
   "id": "38ce1867",
   "metadata": {},
   "outputs": [],
   "source": [
    "def get_bucket(row, field):\n",
    "    if (row[field] < 0.6):\n",
    "        return 0.0\n",
    "    elif (row[field] < 0.7):\n",
    "        return 0.6\n",
    "    elif (row[field] < 0.8):\n",
    "        return 0.7\n",
    "    elif (row[field] < 0.9):\n",
    "        return 0.8\n",
    "    else:\n",
    "        return 0.9"
   ]
  },
  {
   "cell_type": "code",
   "execution_count": 12,
   "id": "60e2e400",
   "metadata": {
    "scrolled": true
   },
   "outputs": [],
   "source": [
    "df['avg_toxic_window'] = df.apply(lambda row: get_bucket(row, 'avg_toxic_score'), axis=1)"
   ]
  },
  {
   "cell_type": "code",
   "execution_count": 13,
   "id": "0776f075",
   "metadata": {},
   "outputs": [
    {
     "name": "stdout",
     "output_type": "stream",
     "text": [
      "0.6 111\n",
      "0.7 30\n",
      "0.8 61\n",
      "0.9 82\n"
     ]
    }
   ],
   "source": [
    "myrange = [0.6, 0.7, 0.8, 0.9]\n",
    "sampled_dfs = []\n",
    "for ow in myrange:\n",
    "    g = df[df['avg_toxic_window'] == ow]\n",
    "    print (ow, len(g))\n",
    "    sampled_dfs.append(g.sample(10))"
   ]
  },
  {
   "cell_type": "code",
   "execution_count": 14,
   "id": "688b5620",
   "metadata": {},
   "outputs": [],
   "source": [
    "final_df = pd.concat(sampled_dfs)"
   ]
  },
  {
   "cell_type": "code",
   "execution_count": 15,
   "id": "c0bbe1d6",
   "metadata": {},
   "outputs": [],
   "source": [
    "def get_random_date():\n",
    "    random_number_of_days = random.randrange(40)\n",
    "    random_date = datetime.date(2021, 10, 1) + datetime.timedelta(days=random_number_of_days)\n",
    "    return random_date"
   ]
  },
  {
   "cell_type": "code",
   "execution_count": 16,
   "id": "de7719ee",
   "metadata": {},
   "outputs": [],
   "source": [
    "def assignPeripherals(final_df):\n",
    "    final_df = final_df[['comment', 'avg_toxic_score', 'comment_ID']]\n",
    "    \n",
    "    # Set username\n",
    "    usernameDf = pd.read_csv('usernames.csv')\n",
    "    usernames = set(list(usernameDf['username']))\n",
    "    final_df['author'] = df.apply(lambda row: random.sample(usernames, 1)[0], axis=1)\n",
    "    \n",
    "    # Set full name\n",
    "    nameDf = pd.read_csv('random_names.csv')\n",
    "    names = set(list(nameDf['name']))\n",
    "    final_df['author_name'] = df.apply(lambda row: random.sample(names, 1)[0], axis=1)    \n",
    "    \n",
    "    # Set integer fields\n",
    "    final_df['num_likes'] = np.random.randint(1, 100, final_df.shape[0])    \n",
    "    final_df['num_comments'] = np.random.randint(1, 100, final_df.shape[0])    \n",
    "    final_df['num_retweets'] = np.random.randint(1, 100, final_df.shape[0])        \n",
    "    \n",
    "    # Set publication date\n",
    "    final_df['pub_date'] = df.apply(lambda row: get_random_date(), axis=1)\n",
    "    \n",
    "    return final_df"
   ]
  },
  {
   "cell_type": "code",
   "execution_count": 17,
   "id": "0ad30a52",
   "metadata": {},
   "outputs": [
    {
     "name": "stderr",
     "output_type": "stream",
     "text": [
      "<ipython-input-16-61dd48437cb0>:7: SettingWithCopyWarning: \n",
      "A value is trying to be set on a copy of a slice from a DataFrame.\n",
      "Try using .loc[row_indexer,col_indexer] = value instead\n",
      "\n",
      "See the caveats in the documentation: https://pandas.pydata.org/pandas-docs/stable/user_guide/indexing.html#returning-a-view-versus-a-copy\n",
      "  final_df['author'] = df.apply(lambda row: random.sample(usernames, 1)[0], axis=1)\n",
      "<ipython-input-16-61dd48437cb0>:12: SettingWithCopyWarning: \n",
      "A value is trying to be set on a copy of a slice from a DataFrame.\n",
      "Try using .loc[row_indexer,col_indexer] = value instead\n",
      "\n",
      "See the caveats in the documentation: https://pandas.pydata.org/pandas-docs/stable/user_guide/indexing.html#returning-a-view-versus-a-copy\n",
      "  final_df['author_name'] = df.apply(lambda row: random.sample(names, 1)[0], axis=1)\n",
      "<ipython-input-16-61dd48437cb0>:15: SettingWithCopyWarning: \n",
      "A value is trying to be set on a copy of a slice from a DataFrame.\n",
      "Try using .loc[row_indexer,col_indexer] = value instead\n",
      "\n",
      "See the caveats in the documentation: https://pandas.pydata.org/pandas-docs/stable/user_guide/indexing.html#returning-a-view-versus-a-copy\n",
      "  final_df['num_likes'] = np.random.randint(1, 100, final_df.shape[0])\n",
      "<ipython-input-16-61dd48437cb0>:16: SettingWithCopyWarning: \n",
      "A value is trying to be set on a copy of a slice from a DataFrame.\n",
      "Try using .loc[row_indexer,col_indexer] = value instead\n",
      "\n",
      "See the caveats in the documentation: https://pandas.pydata.org/pandas-docs/stable/user_guide/indexing.html#returning-a-view-versus-a-copy\n",
      "  final_df['num_comments'] = np.random.randint(1, 100, final_df.shape[0])\n",
      "<ipython-input-16-61dd48437cb0>:17: SettingWithCopyWarning: \n",
      "A value is trying to be set on a copy of a slice from a DataFrame.\n",
      "Try using .loc[row_indexer,col_indexer] = value instead\n",
      "\n",
      "See the caveats in the documentation: https://pandas.pydata.org/pandas-docs/stable/user_guide/indexing.html#returning-a-view-versus-a-copy\n",
      "  final_df['num_retweets'] = np.random.randint(1, 100, final_df.shape[0])\n",
      "<ipython-input-16-61dd48437cb0>:20: SettingWithCopyWarning: \n",
      "A value is trying to be set on a copy of a slice from a DataFrame.\n",
      "Try using .loc[row_indexer,col_indexer] = value instead\n",
      "\n",
      "See the caveats in the documentation: https://pandas.pydata.org/pandas-docs/stable/user_guide/indexing.html#returning-a-view-versus-a-copy\n",
      "  final_df['pub_date'] = df.apply(lambda row: get_random_date(), axis=1)\n"
     ]
    },
    {
     "data": {
      "text/html": [
       "<div>\n",
       "<style scoped>\n",
       "    .dataframe tbody tr th:only-of-type {\n",
       "        vertical-align: middle;\n",
       "    }\n",
       "\n",
       "    .dataframe tbody tr th {\n",
       "        vertical-align: top;\n",
       "    }\n",
       "\n",
       "    .dataframe thead th {\n",
       "        text-align: right;\n",
       "    }\n",
       "</style>\n",
       "<table border=\"1\" class=\"dataframe\">\n",
       "  <thead>\n",
       "    <tr style=\"text-align: right;\">\n",
       "      <th></th>\n",
       "      <th>comment</th>\n",
       "      <th>avg_toxic_score</th>\n",
       "      <th>comment_ID</th>\n",
       "      <th>author</th>\n",
       "      <th>author_name</th>\n",
       "      <th>num_likes</th>\n",
       "      <th>num_comments</th>\n",
       "      <th>num_retweets</th>\n",
       "      <th>pub_date</th>\n",
       "    </tr>\n",
       "  </thead>\n",
       "  <tbody>\n",
       "    <tr>\n",
       "      <th>11628</th>\n",
       "      <td>Fast &amp;amp; Furious 9: its not my fault youre ugly man sorry to break it to you</td>\n",
       "      <td>0.6</td>\n",
       "      <td>111_18</td>\n",
       "      <td>PM_ME_YOUR_MAYORS</td>\n",
       "      <td>Preston Owens</td>\n",
       "      <td>13</td>\n",
       "      <td>2</td>\n",
       "      <td>71</td>\n",
       "      <td>2021-10-21</td>\n",
       "    </tr>\n",
       "    <tr>\n",
       "      <th>27474</th>\n",
       "      <td>Lovely peaches be getting that dick 🙈</td>\n",
       "      <td>0.6</td>\n",
       "      <td>2435_16</td>\n",
       "      <td>favorableheads3963</td>\n",
       "      <td>Elian Owens</td>\n",
       "      <td>45</td>\n",
       "      <td>31</td>\n",
       "      <td>48</td>\n",
       "      <td>2021-10-26</td>\n",
       "    </tr>\n",
       "    <tr>\n",
       "      <th>10234</th>\n",
       "      <td>Lots of people think about your Dad every day. They think he is everything the British Ambassador said he is, beyond being a liar, buffoon, shallow as a dog-pee puddle, treasonous-Russian asset &amp;amp; hopeless failure at business. Be grateful for the short time he has before prison.</td>\n",
       "      <td>0.6</td>\n",
       "      <td>1280_8</td>\n",
       "      <td>MustySeating</td>\n",
       "      <td>Lucia Reed</td>\n",
       "      <td>10</td>\n",
       "      <td>82</td>\n",
       "      <td>52</td>\n",
       "      <td>2021-10-10</td>\n",
       "    </tr>\n",
       "    <tr>\n",
       "      <th>2806</th>\n",
       "      <td>This isn't america can everyone fuck off eith this racist and blame the police nonsense. Stop acting like cu ts and tou wont be arrested. Its your actions which are wrong and you all need to learn some humility.</td>\n",
       "      <td>0.6</td>\n",
       "      <td>1093_23</td>\n",
       "      <td>VirtualStatement</td>\n",
       "      <td>Alexia Wilson</td>\n",
       "      <td>54</td>\n",
       "      <td>69</td>\n",
       "      <td>84</td>\n",
       "      <td>2021-10-26</td>\n",
       "    </tr>\n",
       "    <tr>\n",
       "      <th>56065</th>\n",
       "      <td>The fact that #NotMyAriel is trending proves how evil white ppl are as a whole and Narcissistic.</td>\n",
       "      <td>0.6</td>\n",
       "      <td>5113_1</td>\n",
       "      <td>thefrizzyforgiveness</td>\n",
       "      <td>Eddy Rogers</td>\n",
       "      <td>17</td>\n",
       "      <td>99</td>\n",
       "      <td>78</td>\n",
       "      <td>2021-11-05</td>\n",
       "    </tr>\n",
       "  </tbody>\n",
       "</table>\n",
       "</div>"
      ],
      "text/plain": [
       "                                                                                                                                                                                                                                                                                          comment  \\\n",
       "11628                                                                                                                                                                                                              Fast &amp; Furious 9: its not my fault youre ugly man sorry to break it to you   \n",
       "27474                                                                                                                                                                                                                                                       Lovely peaches be getting that dick 🙈   \n",
       "10234  Lots of people think about your Dad every day. They think he is everything the British Ambassador said he is, beyond being a liar, buffoon, shallow as a dog-pee puddle, treasonous-Russian asset &amp; hopeless failure at business. Be grateful for the short time he has before prison.   \n",
       "2806                                                                          This isn't america can everyone fuck off eith this racist and blame the police nonsense. Stop acting like cu ts and tou wont be arrested. Its your actions which are wrong and you all need to learn some humility.   \n",
       "56065                                                                                                                                                                                            The fact that #NotMyAriel is trending proves how evil white ppl are as a whole and Narcissistic.   \n",
       "\n",
       "       avg_toxic_score comment_ID                author    author_name  \\\n",
       "11628              0.6     111_18     PM_ME_YOUR_MAYORS  Preston Owens   \n",
       "27474              0.6    2435_16    favorableheads3963    Elian Owens   \n",
       "10234              0.6     1280_8          MustySeating     Lucia Reed   \n",
       "2806               0.6    1093_23      VirtualStatement  Alexia Wilson   \n",
       "56065              0.6     5113_1  thefrizzyforgiveness    Eddy Rogers   \n",
       "\n",
       "       num_likes  num_comments  num_retweets    pub_date  \n",
       "11628         13             2            71  2021-10-21  \n",
       "27474         45            31            48  2021-10-26  \n",
       "10234         10            82            52  2021-10-10  \n",
       "2806          54            69            84  2021-10-26  \n",
       "56065         17            99            78  2021-11-05  "
      ]
     },
     "execution_count": 17,
     "metadata": {},
     "output_type": "execute_result"
    }
   ],
   "source": [
    "final_df = assignPeripherals(final_df)\n",
    "final_df.head()"
   ]
  },
  {
   "cell_type": "code",
   "execution_count": 18,
   "id": "18d78ab6",
   "metadata": {},
   "outputs": [],
   "source": [
    "final_df = final_df.sample(frac=1).reset_index(drop=True)\n",
    "final_df.to_csv('main_comments.csv', index=False)"
   ]
  },
  {
   "cell_type": "code",
   "execution_count": 19,
   "id": "a09c91bc",
   "metadata": {},
   "outputs": [],
   "source": [
    "nontoxic_df = df.query('avg_toxic_window == 0.0')"
   ]
  },
  {
   "cell_type": "code",
   "execution_count": 20,
   "id": "d4253070",
   "metadata": {},
   "outputs": [],
   "source": [
    "nontoxic_sample = nontoxic_df.sample(30)"
   ]
  },
  {
   "cell_type": "code",
   "execution_count": 21,
   "id": "f690bbbf",
   "metadata": {},
   "outputs": [
    {
     "name": "stderr",
     "output_type": "stream",
     "text": [
      "<ipython-input-16-61dd48437cb0>:7: SettingWithCopyWarning: \n",
      "A value is trying to be set on a copy of a slice from a DataFrame.\n",
      "Try using .loc[row_indexer,col_indexer] = value instead\n",
      "\n",
      "See the caveats in the documentation: https://pandas.pydata.org/pandas-docs/stable/user_guide/indexing.html#returning-a-view-versus-a-copy\n",
      "  final_df['author'] = df.apply(lambda row: random.sample(usernames, 1)[0], axis=1)\n",
      "<ipython-input-16-61dd48437cb0>:12: SettingWithCopyWarning: \n",
      "A value is trying to be set on a copy of a slice from a DataFrame.\n",
      "Try using .loc[row_indexer,col_indexer] = value instead\n",
      "\n",
      "See the caveats in the documentation: https://pandas.pydata.org/pandas-docs/stable/user_guide/indexing.html#returning-a-view-versus-a-copy\n",
      "  final_df['author_name'] = df.apply(lambda row: random.sample(names, 1)[0], axis=1)\n",
      "<ipython-input-16-61dd48437cb0>:15: SettingWithCopyWarning: \n",
      "A value is trying to be set on a copy of a slice from a DataFrame.\n",
      "Try using .loc[row_indexer,col_indexer] = value instead\n",
      "\n",
      "See the caveats in the documentation: https://pandas.pydata.org/pandas-docs/stable/user_guide/indexing.html#returning-a-view-versus-a-copy\n",
      "  final_df['num_likes'] = np.random.randint(1, 100, final_df.shape[0])\n",
      "<ipython-input-16-61dd48437cb0>:16: SettingWithCopyWarning: \n",
      "A value is trying to be set on a copy of a slice from a DataFrame.\n",
      "Try using .loc[row_indexer,col_indexer] = value instead\n",
      "\n",
      "See the caveats in the documentation: https://pandas.pydata.org/pandas-docs/stable/user_guide/indexing.html#returning-a-view-versus-a-copy\n",
      "  final_df['num_comments'] = np.random.randint(1, 100, final_df.shape[0])\n",
      "<ipython-input-16-61dd48437cb0>:17: SettingWithCopyWarning: \n",
      "A value is trying to be set on a copy of a slice from a DataFrame.\n",
      "Try using .loc[row_indexer,col_indexer] = value instead\n",
      "\n",
      "See the caveats in the documentation: https://pandas.pydata.org/pandas-docs/stable/user_guide/indexing.html#returning-a-view-versus-a-copy\n",
      "  final_df['num_retweets'] = np.random.randint(1, 100, final_df.shape[0])\n",
      "<ipython-input-16-61dd48437cb0>:20: SettingWithCopyWarning: \n",
      "A value is trying to be set on a copy of a slice from a DataFrame.\n",
      "Try using .loc[row_indexer,col_indexer] = value instead\n",
      "\n",
      "See the caveats in the documentation: https://pandas.pydata.org/pandas-docs/stable/user_guide/indexing.html#returning-a-view-versus-a-copy\n",
      "  final_df['pub_date'] = df.apply(lambda row: get_random_date(), axis=1)\n"
     ]
    },
    {
     "data": {
      "text/html": [
       "<div>\n",
       "<style scoped>\n",
       "    .dataframe tbody tr th:only-of-type {\n",
       "        vertical-align: middle;\n",
       "    }\n",
       "\n",
       "    .dataframe tbody tr th {\n",
       "        vertical-align: top;\n",
       "    }\n",
       "\n",
       "    .dataframe thead th {\n",
       "        text-align: right;\n",
       "    }\n",
       "</style>\n",
       "<table border=\"1\" class=\"dataframe\">\n",
       "  <thead>\n",
       "    <tr style=\"text-align: right;\">\n",
       "      <th></th>\n",
       "      <th>comment</th>\n",
       "      <th>avg_toxic_score</th>\n",
       "      <th>comment_ID</th>\n",
       "      <th>author</th>\n",
       "      <th>author_name</th>\n",
       "      <th>num_likes</th>\n",
       "      <th>num_comments</th>\n",
       "      <th>num_retweets</th>\n",
       "      <th>pub_date</th>\n",
       "    </tr>\n",
       "  </thead>\n",
       "  <tbody>\n",
       "    <tr>\n",
       "      <th>46029</th>\n",
       "      <td>I would be lost &amp;amp; broke In a ditch without my sister</td>\n",
       "      <td>0.00</td>\n",
       "      <td>2291_1</td>\n",
       "      <td>intrigued_tights</td>\n",
       "      <td>Ashton Campbell</td>\n",
       "      <td>3</td>\n",
       "      <td>76</td>\n",
       "      <td>81</td>\n",
       "      <td>2021-10-27</td>\n",
       "    </tr>\n",
       "    <tr>\n",
       "      <th>34500</th>\n",
       "      <td>Your relationships pose challenges to your self-expression now... More for Cancer</td>\n",
       "      <td>0.05</td>\n",
       "      <td>3151_7</td>\n",
       "      <td>LastVictory</td>\n",
       "      <td>Lyndon Barrett</td>\n",
       "      <td>18</td>\n",
       "      <td>30</td>\n",
       "      <td>85</td>\n",
       "      <td>2021-10-03</td>\n",
       "    </tr>\n",
       "    <tr>\n",
       "      <th>7464</th>\n",
       "      <td>Thank you! Like yeah Adam is a killer and shit but guess what? So is Cinder, Neo, Mercury, Emerald, Salem and every single other villain in this show and people like who they like but that doesn't mean they condone their actions or support the evil choices they make.</td>\n",
       "      <td>0.00</td>\n",
       "      <td>814_9</td>\n",
       "      <td>rebelsolitude666</td>\n",
       "      <td>Jasmine Montgomery</td>\n",
       "      <td>11</td>\n",
       "      <td>9</td>\n",
       "      <td>24</td>\n",
       "      <td>2021-10-10</td>\n",
       "    </tr>\n",
       "    <tr>\n",
       "      <th>57278</th>\n",
       "      <td>I refuse to ever fall in love again. . The thought of letting someone back in scares me or even liking someone scares the shit out of me, love isn’t made for me and never will be.</td>\n",
       "      <td>0.00</td>\n",
       "      <td>4370_20</td>\n",
       "      <td>moist_hello</td>\n",
       "      <td>Lyndon Warren</td>\n",
       "      <td>31</td>\n",
       "      <td>70</td>\n",
       "      <td>2</td>\n",
       "      <td>2021-11-03</td>\n",
       "    </tr>\n",
       "    <tr>\n",
       "      <th>10372</th>\n",
       "      <td>A mere tweet cannot prevent me from giving birth. And I don't go about bashing people because I don't like them. I wasn't trained like dat.... You can support your fav without insulting others. ✌</td>\n",
       "      <td>0.05</td>\n",
       "      <td>306_6</td>\n",
       "      <td>exciting_self-control</td>\n",
       "      <td>Byron Alexander</td>\n",
       "      <td>89</td>\n",
       "      <td>37</td>\n",
       "      <td>90</td>\n",
       "      <td>2021-10-12</td>\n",
       "    </tr>\n",
       "  </tbody>\n",
       "</table>\n",
       "</div>"
      ],
      "text/plain": [
       "                                                                                                                                                                                                                                                                           comment  \\\n",
       "46029                                                                                                                                                                                                                     I would be lost &amp; broke In a ditch without my sister   \n",
       "34500                                                                                                                                                                                            Your relationships pose challenges to your self-expression now... More for Cancer   \n",
       "7464   Thank you! Like yeah Adam is a killer and shit but guess what? So is Cinder, Neo, Mercury, Emerald, Salem and every single other villain in this show and people like who they like but that doesn't mean they condone their actions or support the evil choices they make.   \n",
       "57278                                                                                          I refuse to ever fall in love again. . The thought of letting someone back in scares me or even liking someone scares the shit out of me, love isn’t made for me and never will be.   \n",
       "10372                                                                          A mere tweet cannot prevent me from giving birth. And I don't go about bashing people because I don't like them. I wasn't trained like dat.... You can support your fav without insulting others. ✌   \n",
       "\n",
       "       avg_toxic_score comment_ID                 author         author_name  \\\n",
       "46029             0.00     2291_1       intrigued_tights     Ashton Campbell   \n",
       "34500             0.05     3151_7            LastVictory      Lyndon Barrett   \n",
       "7464              0.00      814_9       rebelsolitude666  Jasmine Montgomery   \n",
       "57278             0.00    4370_20            moist_hello       Lyndon Warren   \n",
       "10372             0.05      306_6  exciting_self-control     Byron Alexander   \n",
       "\n",
       "       num_likes  num_comments  num_retweets    pub_date  \n",
       "46029          3            76            81  2021-10-27  \n",
       "34500         18            30            85  2021-10-03  \n",
       "7464          11             9            24  2021-10-10  \n",
       "57278         31            70             2  2021-11-03  \n",
       "10372         89            37            90  2021-10-12  "
      ]
     },
     "execution_count": 21,
     "metadata": {},
     "output_type": "execute_result"
    }
   ],
   "source": [
    "nontoxic_sample = assignPeripherals(nontoxic_sample)\n",
    "nontoxic_sample.head()"
   ]
  },
  {
   "cell_type": "code",
   "execution_count": 22,
   "id": "411c564e",
   "metadata": {},
   "outputs": [],
   "source": [
    "nontoxic_sample.to_csv('nontoxic_comments.csv', index=False)"
   ]
  }
 ],
 "metadata": {
  "kernelspec": {
   "display_name": "Python 3",
   "language": "python",
   "name": "python3"
  },
  "language_info": {
   "codemirror_mode": {
    "name": "ipython",
    "version": 3
   },
   "file_extension": ".py",
   "mimetype": "text/x-python",
   "name": "python",
   "nbconvert_exporter": "python",
   "pygments_lexer": "ipython3",
   "version": "3.8.8"
  }
 },
 "nbformat": 4,
 "nbformat_minor": 5
}
