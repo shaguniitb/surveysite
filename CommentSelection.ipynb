{
 "cells": [
  {
   "cell_type": "code",
   "execution_count": 1,
   "id": "efc4c198",
   "metadata": {},
   "outputs": [],
   "source": [
    "import pandas as pd\n",
    "import random"
   ]
  },
  {
   "cell_type": "code",
   "execution_count": 2,
   "id": "33517232",
   "metadata": {},
   "outputs": [],
   "source": [
    "pd.set_option('display.max_colwidth', None)"
   ]
  },
  {
   "cell_type": "code",
   "execution_count": 3,
   "id": "cdc0c7d4",
   "metadata": {},
   "outputs": [],
   "source": [
    "INPUT_FILE = '../toxicity_ratings - twitter.csv'"
   ]
  },
  {
   "cell_type": "code",
   "execution_count": 4,
   "id": "8a6797c3",
   "metadata": {
    "scrolled": true
   },
   "outputs": [
    {
     "name": "stderr",
     "output_type": "stream",
     "text": [
      "/Users/shagunjhaver/opt/anaconda3/lib/python3.8/site-packages/IPython/core/interactiveshell.py:3165: DtypeWarning: Columns (6,7,8,9,10,14,15,16,17,18,19) have mixed types.Specify dtype option on import or set low_memory=False.\n",
      "  has_raised = await self.run_ast_nodes(code_ast.body, cell_name,\n"
     ]
    }
   ],
   "source": [
    "df = pd.read_csv(INPUT_FILE)"
   ]
  },
  {
   "cell_type": "code",
   "execution_count": 5,
   "id": "f48c9faa",
   "metadata": {},
   "outputs": [],
   "source": [
    "df = df.dropna()"
   ]
  },
  {
   "cell_type": "code",
   "execution_count": 6,
   "id": "c7262fb2",
   "metadata": {},
   "outputs": [],
   "source": [
    "def get_avg_toxicity(row):\n",
    "    result = (row['toxic_score'] + row['toxic_score.1'] + row['toxic_score.2'] + row['toxic_score.3'] + row['toxic_score.4'])/20.0\n",
    "    return result"
   ]
  },
  {
   "cell_type": "code",
   "execution_count": 7,
   "id": "c3cf5e27",
   "metadata": {},
   "outputs": [],
   "source": [
    "df['avg_toxic_score'] = df.apply (lambda row: get_avg_toxicity(row), axis=1)"
   ]
  },
  {
   "cell_type": "code",
   "execution_count": 8,
   "id": "1ec87661",
   "metadata": {},
   "outputs": [],
   "source": [
    "df = df[['comment', 'perspective_score', 'avg_toxic_score', 'comment_ID']]"
   ]
  },
  {
   "cell_type": "code",
   "execution_count": 9,
   "id": "38ce1867",
   "metadata": {},
   "outputs": [],
   "source": [
    "def get_bucket(row, field):\n",
    "    if (row[field] < 0.2):\n",
    "        return 0.0\n",
    "    elif (row[field] < 0.4):\n",
    "        return 0.2\n",
    "    elif (row[field] < 0.6):\n",
    "        return 0.4\n",
    "    elif (row[field] < 0.8):\n",
    "        return 0.6\n",
    "    else:\n",
    "        return 0.8"
   ]
  },
  {
   "cell_type": "code",
   "execution_count": 10,
   "id": "fae2b41e",
   "metadata": {},
   "outputs": [],
   "source": [
    "df['perspective_window'] = df.apply(lambda row: get_bucket(row, 'perspective_score'), axis=1)"
   ]
  },
  {
   "cell_type": "code",
   "execution_count": 11,
   "id": "60e2e400",
   "metadata": {
    "scrolled": true
   },
   "outputs": [],
   "source": [
    "df['avg_toxic_window'] = df.apply(lambda row: get_bucket(row, 'avg_toxic_score'), axis=1)\n"
   ]
  },
  {
   "cell_type": "code",
   "execution_count": 12,
   "id": "144d4f6f",
   "metadata": {},
   "outputs": [],
   "source": [
    "f = df[df['perspective_window'] != df['avg_toxic_window']]"
   ]
  },
  {
   "cell_type": "code",
   "execution_count": 13,
   "id": "5d34630a",
   "metadata": {},
   "outputs": [
    {
     "data": {
      "text/plain": [
       "58321"
      ]
     },
     "execution_count": 13,
     "metadata": {},
     "output_type": "execute_result"
    }
   ],
   "source": [
    "len(f)"
   ]
  },
  {
   "cell_type": "code",
   "execution_count": 14,
   "id": "0776f075",
   "metadata": {},
   "outputs": [],
   "source": [
    "myrange = [0.0, 0.2, 0.4, 0.6, 0.8]\n",
    "sampled_dfs = []\n",
    "for ow in myrange:\n",
    "    g = f[f['perspective_window'] == ow]\n",
    "    for iw in myrange:\n",
    "        if (ow != iw):\n",
    "            h = g[g['avg_toxic_window'] == iw]\n",
    "            sampled_dfs.append(h.sample(1))"
   ]
  },
  {
   "cell_type": "code",
   "execution_count": 15,
   "id": "27bd4465",
   "metadata": {},
   "outputs": [],
   "source": [
    "usernameDf = pd.read_csv('../usernames.csv')\n",
    "usernames = set(list(usernameDf['username']))"
   ]
  },
  {
   "cell_type": "code",
   "execution_count": 16,
   "id": "43f0ee92",
   "metadata": {},
   "outputs": [],
   "source": [
    "final_df = pd.concat(sampled_dfs)"
   ]
  },
  {
   "cell_type": "code",
   "execution_count": 17,
   "id": "4fa3a7a2",
   "metadata": {},
   "outputs": [
    {
     "data": {
      "text/html": [
       "<div>\n",
       "<style scoped>\n",
       "    .dataframe tbody tr th:only-of-type {\n",
       "        vertical-align: middle;\n",
       "    }\n",
       "\n",
       "    .dataframe tbody tr th {\n",
       "        vertical-align: top;\n",
       "    }\n",
       "\n",
       "    .dataframe thead th {\n",
       "        text-align: right;\n",
       "    }\n",
       "</style>\n",
       "<table border=\"1\" class=\"dataframe\">\n",
       "  <thead>\n",
       "    <tr style=\"text-align: right;\">\n",
       "      <th></th>\n",
       "      <th>comment</th>\n",
       "      <th>perspective_score</th>\n",
       "      <th>avg_toxic_score</th>\n",
       "      <th>comment_ID</th>\n",
       "      <th>perspective_window</th>\n",
       "      <th>avg_toxic_window</th>\n",
       "      <th>author</th>\n",
       "    </tr>\n",
       "  </thead>\n",
       "  <tbody>\n",
       "    <tr>\n",
       "      <th>44589</th>\n",
       "      <td>Best #ALDUBxADNBeatingTheOdds</td>\n",
       "      <td>0.159522</td>\n",
       "      <td>0.30</td>\n",
       "      <td>2347_23</td>\n",
       "      <td>0.0</td>\n",
       "      <td>0.2</td>\n",
       "      <td>high_and_mighty</td>\n",
       "    </tr>\n",
       "    <tr>\n",
       "      <th>40881</th>\n",
       "      <td>Nae Nae came to Jewels ratchet salon tonight. We do lips, brows and facials</td>\n",
       "      <td>0.073388</td>\n",
       "      <td>0.40</td>\n",
       "      <td>3193_21</td>\n",
       "      <td>0.0</td>\n",
       "      <td>0.4</td>\n",
       "      <td>orderly_reviewer</td>\n",
       "    </tr>\n",
       "    <tr>\n",
       "      <th>50475</th>\n",
       "      <td>Cute that she knelt thinking it actually meant something 😂😂</td>\n",
       "      <td>0.137157</td>\n",
       "      <td>0.60</td>\n",
       "      <td>5107_15</td>\n",
       "      <td>0.0</td>\n",
       "      <td>0.6</td>\n",
       "      <td>doting_lineage</td>\n",
       "    </tr>\n",
       "    <tr>\n",
       "      <th>69223</th>\n",
       "      <td>Both of them confused cause I treat em like the same hoe</td>\n",
       "      <td>0.166179</td>\n",
       "      <td>0.80</td>\n",
       "      <td>4391_23</td>\n",
       "      <td>0.0</td>\n",
       "      <td>0.8</td>\n",
       "      <td>GiftedInspiration</td>\n",
       "    </tr>\n",
       "    <tr>\n",
       "      <th>26531</th>\n",
       "      <td>Oh wow!! I literally just stumbled on your art today!</td>\n",
       "      <td>0.249317</td>\n",
       "      <td>0.10</td>\n",
       "      <td>2770_6</td>\n",
       "      <td>0.2</td>\n",
       "      <td>0.0</td>\n",
       "      <td>MustySeating</td>\n",
       "    </tr>\n",
       "    <tr>\n",
       "      <th>3324</th>\n",
       "      <td>I don't think we have to bring those people into this because they've made themselves cleared about their religion</td>\n",
       "      <td>0.379370</td>\n",
       "      <td>0.40</td>\n",
       "      <td>1636_5</td>\n",
       "      <td>0.2</td>\n",
       "      <td>0.4</td>\n",
       "      <td>rebelsolitude666</td>\n",
       "    </tr>\n",
       "    <tr>\n",
       "      <th>15010</th>\n",
       "      <td>I mean, I guess you'd be an expert in \"both sides are the same\" considering you condone pedophilia and sex trafficking of minors just as much as the republicans do, right? Right?</td>\n",
       "      <td>0.366563</td>\n",
       "      <td>0.60</td>\n",
       "      <td>1058_18</td>\n",
       "      <td>0.2</td>\n",
       "      <td>0.6</td>\n",
       "      <td>VirtualStatement</td>\n",
       "    </tr>\n",
       "    <tr>\n",
       "      <th>7230</th>\n",
       "      <td>I love spending my day to spoil my loyal sugar babies... Dm, like or RT if you're ready to be pampered... I will clear up your debt for you if you have a credit card... A weekly payment of $500 right away if i like you. #sugarBabies #sugardaddylegit #CollegeStudent #collegelife</td>\n",
       "      <td>0.224907</td>\n",
       "      <td>0.80</td>\n",
       "      <td>1417_17</td>\n",
       "      <td>0.2</td>\n",
       "      <td>0.8</td>\n",
       "      <td>ValiantlyThorough</td>\n",
       "    </tr>\n",
       "    <tr>\n",
       "      <th>69472</th>\n",
       "      <td>HECK YE! We can play when my school break comes</td>\n",
       "      <td>0.526257</td>\n",
       "      <td>0.10</td>\n",
       "      <td>5201_19</td>\n",
       "      <td>0.4</td>\n",
       "      <td>0.0</td>\n",
       "      <td>TheseOrangutan</td>\n",
       "    </tr>\n",
       "    <tr>\n",
       "      <th>13550</th>\n",
       "      <td>Hey, I had TWO wills, BOTH forged and even as a named heir, I never got a copy of it. I gotta post them, as it is the wildest thing and the court-appointed admins and probate court judges let greedy family members get away with murder. Hard to fight w/o legal help; expensive.</td>\n",
       "      <td>0.441413</td>\n",
       "      <td>0.25</td>\n",
       "      <td>1313_9</td>\n",
       "      <td>0.4</td>\n",
       "      <td>0.2</td>\n",
       "      <td>PainfulSquid</td>\n",
       "    </tr>\n",
       "    <tr>\n",
       "      <th>1494</th>\n",
       "      <td>UMMM GO HOME!!! The Free Boat is sinking!!! GO HOME and fix your country!!! WE DID!!! GO HOME!!!</td>\n",
       "      <td>0.530923</td>\n",
       "      <td>0.70</td>\n",
       "      <td>1189_19</td>\n",
       "      <td>0.4</td>\n",
       "      <td>0.6</td>\n",
       "      <td>RepentantWords</td>\n",
       "    </tr>\n",
       "    <tr>\n",
       "      <th>15191</th>\n",
       "      <td>😎VERY simpel: `Integreted´ Sante Ills - WITH DOG - legal in America = Arabia in America = Arabs DOG-SLAVES SYSTEM in America.🇺🇸 ...officially do have U.S. \"Sheeps\" human rights🤣 ...not officially: U.S. \"Sheeps\" are Slaves WITH human rights🤣</td>\n",
       "      <td>0.531019</td>\n",
       "      <td>0.80</td>\n",
       "      <td>137_13</td>\n",
       "      <td>0.4</td>\n",
       "      <td>0.8</td>\n",
       "      <td>TheseOrangutan</td>\n",
       "    </tr>\n",
       "    <tr>\n",
       "      <th>34065</th>\n",
       "      <td>Belle and Anton are so fake #LoveIsland</td>\n",
       "      <td>0.651947</td>\n",
       "      <td>0.15</td>\n",
       "      <td>2014_1</td>\n",
       "      <td>0.6</td>\n",
       "      <td>0.0</td>\n",
       "      <td>kosheropposition_47</td>\n",
       "    </tr>\n",
       "    <tr>\n",
       "      <th>25459</th>\n",
       "      <td>#Moke The kind of gorilla that makes us serious about preservation.</td>\n",
       "      <td>0.766442</td>\n",
       "      <td>0.20</td>\n",
       "      <td>3694_15</td>\n",
       "      <td>0.6</td>\n",
       "      <td>0.2</td>\n",
       "      <td>PainfulSquid</td>\n",
       "    </tr>\n",
       "    <tr>\n",
       "      <th>54399</th>\n",
       "      <td>girl shut up worry about yourself</td>\n",
       "      <td>0.698021</td>\n",
       "      <td>0.50</td>\n",
       "      <td>5469_5</td>\n",
       "      <td>0.6</td>\n",
       "      <td>0.4</td>\n",
       "      <td>kosheropposition_47</td>\n",
       "    </tr>\n",
       "    <tr>\n",
       "      <th>38453</th>\n",
       "      <td>I'm very proud of my Prophet and again he didn't marry a 6 year old girl, you dumbwit Sanghi. Now find a cup of Gaumutra and commit suicide in it than living this adamant dumbwit life of repeating lies &amp;amp; twisting Facts for ITcell money. Satya Meva Jayate!!! #JaiHind</td>\n",
       "      <td>0.776517</td>\n",
       "      <td>0.85</td>\n",
       "      <td>3238_12</td>\n",
       "      <td>0.6</td>\n",
       "      <td>0.8</td>\n",
       "      <td>NoteworthyMuskrat</td>\n",
       "    </tr>\n",
       "    <tr>\n",
       "      <th>42104</th>\n",
       "      <td>Saved America!!??? You buffoon.. he’s destroying it!!</td>\n",
       "      <td>0.871584</td>\n",
       "      <td>0.15</td>\n",
       "      <td>3233_13</td>\n",
       "      <td>0.8</td>\n",
       "      <td>0.0</td>\n",
       "      <td>thelyricalmirth</td>\n",
       "    </tr>\n",
       "    <tr>\n",
       "      <th>69406</th>\n",
       "      <td>The only good pic I got last night ft barcode dirty ass mirror</td>\n",
       "      <td>0.868712</td>\n",
       "      <td>0.35</td>\n",
       "      <td>5405_23</td>\n",
       "      <td>0.8</td>\n",
       "      <td>0.2</td>\n",
       "      <td>warm_roadblock</td>\n",
       "    </tr>\n",
       "    <tr>\n",
       "      <th>24589</th>\n",
       "      <td>Quick to let a nigga do him cus when it’s my turn a nigga gone need a Tylenol , Motrin and aspirin 🤗</td>\n",
       "      <td>0.863258</td>\n",
       "      <td>0.45</td>\n",
       "      <td>3527_14</td>\n",
       "      <td>0.8</td>\n",
       "      <td>0.4</td>\n",
       "      <td>DisgustingPermission</td>\n",
       "    </tr>\n",
       "    <tr>\n",
       "      <th>55612</th>\n",
       "      <td>guess what. deez nuts in ur mouth with ur dumb lookin headass. 👅👅</td>\n",
       "      <td>0.872295</td>\n",
       "      <td>0.65</td>\n",
       "      <td>4529_9</td>\n",
       "      <td>0.8</td>\n",
       "      <td>0.6</td>\n",
       "      <td>intrigued_tights</td>\n",
       "    </tr>\n",
       "  </tbody>\n",
       "</table>\n",
       "</div>"
      ],
      "text/plain": [
       "                                                                                                                                                                                                                                                                                      comment  \\\n",
       "44589                                                                                                                                                                                                                                                           Best #ALDUBxADNBeatingTheOdds   \n",
       "40881                                                                                                                                                                                                             Nae Nae came to Jewels ratchet salon tonight. We do lips, brows and facials   \n",
       "50475                                                                                                                                                                                                                             Cute that she knelt thinking it actually meant something 😂😂   \n",
       "69223                                                                                                                                                                                                                                Both of them confused cause I treat em like the same hoe   \n",
       "26531                                                                                                                                                                                                                                   Oh wow!! I literally just stumbled on your art today!   \n",
       "3324                                                                                                                                                                       I don't think we have to bring those people into this because they've made themselves cleared about their religion   \n",
       "15010                                                                                                      I mean, I guess you'd be an expert in \"both sides are the same\" considering you condone pedophilia and sex trafficking of minors just as much as the republicans do, right? Right?   \n",
       "7230   I love spending my day to spoil my loyal sugar babies... Dm, like or RT if you're ready to be pampered... I will clear up your debt for you if you have a credit card... A weekly payment of $500 right away if i like you. #sugarBabies #sugardaddylegit #CollegeStudent #collegelife   \n",
       "69472                                                                                                                                                                                                                                         HECK YE! We can play when my school break comes   \n",
       "13550    Hey, I had TWO wills, BOTH forged and even as a named heir, I never got a copy of it. I gotta post them, as it is the wildest thing and the court-appointed admins and probate court judges let greedy family members get away with murder. Hard to fight w/o legal help; expensive.   \n",
       "1494                                                                                                                                                                                         UMMM GO HOME!!! The Free Boat is sinking!!! GO HOME and fix your country!!! WE DID!!! GO HOME!!!   \n",
       "15191                                        😎VERY simpel: `Integreted´ Sante Ills - WITH DOG - legal in America = Arabia in America = Arabs DOG-SLAVES SYSTEM in America.🇺🇸 ...officially do have U.S. \"Sheeps\" human rights🤣 ...not officially: U.S. \"Sheeps\" are Slaves WITH human rights🤣   \n",
       "34065                                                                                                                                                                                                                                                 Belle and Anton are so fake #LoveIsland   \n",
       "25459                                                                                                                                                                                                                     #Moke The kind of gorilla that makes us serious about preservation.   \n",
       "54399                                                                                                                                                                                                                                                       girl shut up worry about yourself   \n",
       "38453          I'm very proud of my Prophet and again he didn't marry a 6 year old girl, you dumbwit Sanghi. Now find a cup of Gaumutra and commit suicide in it than living this adamant dumbwit life of repeating lies &amp; twisting Facts for ITcell money. Satya Meva Jayate!!! #JaiHind   \n",
       "42104                                                                                                                                                                                                                                   Saved America!!??? You buffoon.. he’s destroying it!!   \n",
       "69406                                                                                                                                                                                                                          The only good pic I got last night ft barcode dirty ass mirror   \n",
       "24589                                                                                                                                                                                    Quick to let a nigga do him cus when it’s my turn a nigga gone need a Tylenol , Motrin and aspirin 🤗   \n",
       "55612                                                                                                                                                                                                                       guess what. deez nuts in ur mouth with ur dumb lookin headass. 👅👅   \n",
       "\n",
       "       perspective_score  avg_toxic_score comment_ID  perspective_window  \\\n",
       "44589           0.159522             0.30    2347_23                 0.0   \n",
       "40881           0.073388             0.40    3193_21                 0.0   \n",
       "50475           0.137157             0.60    5107_15                 0.0   \n",
       "69223           0.166179             0.80    4391_23                 0.0   \n",
       "26531           0.249317             0.10     2770_6                 0.2   \n",
       "3324            0.379370             0.40     1636_5                 0.2   \n",
       "15010           0.366563             0.60    1058_18                 0.2   \n",
       "7230            0.224907             0.80    1417_17                 0.2   \n",
       "69472           0.526257             0.10    5201_19                 0.4   \n",
       "13550           0.441413             0.25     1313_9                 0.4   \n",
       "1494            0.530923             0.70    1189_19                 0.4   \n",
       "15191           0.531019             0.80     137_13                 0.4   \n",
       "34065           0.651947             0.15     2014_1                 0.6   \n",
       "25459           0.766442             0.20    3694_15                 0.6   \n",
       "54399           0.698021             0.50     5469_5                 0.6   \n",
       "38453           0.776517             0.85    3238_12                 0.6   \n",
       "42104           0.871584             0.15    3233_13                 0.8   \n",
       "69406           0.868712             0.35    5405_23                 0.8   \n",
       "24589           0.863258             0.45    3527_14                 0.8   \n",
       "55612           0.872295             0.65     4529_9                 0.8   \n",
       "\n",
       "       avg_toxic_window                author  \n",
       "44589               0.2       high_and_mighty  \n",
       "40881               0.4      orderly_reviewer  \n",
       "50475               0.6        doting_lineage  \n",
       "69223               0.8     GiftedInspiration  \n",
       "26531               0.0          MustySeating  \n",
       "3324                0.4      rebelsolitude666  \n",
       "15010               0.6      VirtualStatement  \n",
       "7230                0.8     ValiantlyThorough  \n",
       "69472               0.0        TheseOrangutan  \n",
       "13550               0.2          PainfulSquid  \n",
       "1494                0.6        RepentantWords  \n",
       "15191               0.8        TheseOrangutan  \n",
       "34065               0.0   kosheropposition_47  \n",
       "25459               0.2          PainfulSquid  \n",
       "54399               0.4   kosheropposition_47  \n",
       "38453               0.8     NoteworthyMuskrat  \n",
       "42104               0.0       thelyricalmirth  \n",
       "69406               0.2        warm_roadblock  \n",
       "24589               0.4  DisgustingPermission  \n",
       "55612               0.6      intrigued_tights  "
      ]
     },
     "execution_count": 17,
     "metadata": {},
     "output_type": "execute_result"
    }
   ],
   "source": [
    "final_df['author'] = df.apply(lambda row: random.sample(usernames, 1)[0], axis=1)\n",
    "final_df"
   ]
  },
  {
   "cell_type": "code",
   "execution_count": 18,
   "id": "18d78ab6",
   "metadata": {},
   "outputs": [],
   "source": [
    "final_df.to_csv('main_comments.csv', columns = ['comment', 'author', 'perspective_score', 'avg_toxic_score', 'comment_ID'], index=False)"
   ]
  }
 ],
 "metadata": {
  "kernelspec": {
   "display_name": "Python 3",
   "language": "python",
   "name": "python3"
  },
  "language_info": {
   "codemirror_mode": {
    "name": "ipython",
    "version": 3
   },
   "file_extension": ".py",
   "mimetype": "text/x-python",
   "name": "python",
   "nbconvert_exporter": "python",
   "pygments_lexer": "ipython3",
   "version": "3.8.8"
  }
 },
 "nbformat": 4,
 "nbformat_minor": 5
}
