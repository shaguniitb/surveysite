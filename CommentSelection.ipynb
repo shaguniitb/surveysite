{
 "cells": [
  {
   "cell_type": "code",
   "execution_count": 1,
   "id": "efc4c198",
   "metadata": {},
   "outputs": [],
   "source": [
    "import pandas as pd\n",
    "import random"
   ]
  },
  {
   "cell_type": "code",
   "execution_count": 2,
   "id": "33517232",
   "metadata": {},
   "outputs": [],
   "source": [
    "pd.set_option('display.max_colwidth', None)"
   ]
  },
  {
   "cell_type": "code",
   "execution_count": 3,
   "id": "cdc0c7d4",
   "metadata": {},
   "outputs": [],
   "source": [
    "INPUT_FILE = 'toxicity_ratings - twitter.csv'"
   ]
  },
  {
   "cell_type": "code",
   "execution_count": 4,
   "id": "8a6797c3",
   "metadata": {
    "scrolled": true
   },
   "outputs": [
    {
     "name": "stderr",
     "output_type": "stream",
     "text": [
      "/Users/shagunjhaver/opt/anaconda3/lib/python3.8/site-packages/IPython/core/interactiveshell.py:3165: DtypeWarning: Columns (6,7,8,9,10,14,15,16,17,18,19) have mixed types.Specify dtype option on import or set low_memory=False.\n",
      "  has_raised = await self.run_ast_nodes(code_ast.body, cell_name,\n"
     ]
    }
   ],
   "source": [
    "df = pd.read_csv(INPUT_FILE)"
   ]
  },
  {
   "cell_type": "code",
   "execution_count": 5,
   "id": "f48c9faa",
   "metadata": {},
   "outputs": [],
   "source": [
    "df = df.dropna()"
   ]
  },
  {
   "cell_type": "code",
   "execution_count": 6,
   "id": "c7262fb2",
   "metadata": {},
   "outputs": [],
   "source": [
    "def get_avg_toxicity(row):\n",
    "    result = (row['toxic_score'] + row['toxic_score.1'] + row['toxic_score.2'] + row['toxic_score.3'] + row['toxic_score.4'])/20.0\n",
    "    return result"
   ]
  },
  {
   "cell_type": "code",
   "execution_count": 7,
   "id": "c3cf5e27",
   "metadata": {},
   "outputs": [],
   "source": [
    "df['avg_toxic_score'] = df.apply (lambda row: get_avg_toxicity(row), axis=1)"
   ]
  },
  {
   "cell_type": "code",
   "execution_count": 8,
   "id": "1ec87661",
   "metadata": {},
   "outputs": [],
   "source": [
    "df = df[['comment', 'perspective_score', 'avg_toxic_score', 'comment_ID']]"
   ]
  },
  {
   "cell_type": "code",
   "execution_count": 9,
   "id": "38ce1867",
   "metadata": {},
   "outputs": [],
   "source": [
    "def get_bucket(row, field):\n",
    "    if (row[field] < 0.2):\n",
    "        return 0.0\n",
    "    elif (row[field] < 0.4):\n",
    "        return 0.2\n",
    "    elif (row[field] < 0.6):\n",
    "        return 0.4\n",
    "    elif (row[field] < 0.8):\n",
    "        return 0.6\n",
    "    else:\n",
    "        return 0.8"
   ]
  },
  {
   "cell_type": "code",
   "execution_count": 10,
   "id": "fae2b41e",
   "metadata": {},
   "outputs": [],
   "source": [
    "df['perspective_window'] = df.apply(lambda row: get_bucket(row, 'perspective_score'), axis=1)"
   ]
  },
  {
   "cell_type": "code",
   "execution_count": 11,
   "id": "60e2e400",
   "metadata": {
    "scrolled": true
   },
   "outputs": [],
   "source": [
    "df['avg_toxic_window'] = df.apply(lambda row: get_bucket(row, 'avg_toxic_score'), axis=1)\n"
   ]
  },
  {
   "cell_type": "code",
   "execution_count": 12,
   "id": "144d4f6f",
   "metadata": {},
   "outputs": [],
   "source": [
    "f = df[df['perspective_window'] != df['avg_toxic_window']]"
   ]
  },
  {
   "cell_type": "code",
   "execution_count": 13,
   "id": "5d34630a",
   "metadata": {},
   "outputs": [
    {
     "data": {
      "text/plain": [
       "58321"
      ]
     },
     "execution_count": 13,
     "metadata": {},
     "output_type": "execute_result"
    }
   ],
   "source": [
    "len(f)"
   ]
  },
  {
   "cell_type": "code",
   "execution_count": 14,
   "id": "0776f075",
   "metadata": {},
   "outputs": [],
   "source": [
    "myrange = [0.0, 0.2, 0.4, 0.6, 0.8]\n",
    "sampled_dfs = []\n",
    "for ow in myrange:\n",
    "    g = f[f['perspective_window'] == ow]\n",
    "    for iw in myrange:\n",
    "        if (ow != iw):\n",
    "            h = g[g['avg_toxic_window'] == iw]\n",
    "            sampled_dfs.append(h.sample(1))"
   ]
  },
  {
   "cell_type": "code",
   "execution_count": 15,
   "id": "27bd4465",
   "metadata": {},
   "outputs": [],
   "source": [
    "usernameDf = pd.read_csv('usernames.csv')\n",
    "usernames = set(list(usernameDf['username']))"
   ]
  },
  {
   "cell_type": "code",
   "execution_count": 16,
   "id": "43f0ee92",
   "metadata": {},
   "outputs": [],
   "source": [
    "final_df = pd.concat(sampled_dfs)"
   ]
  },
  {
   "cell_type": "code",
   "execution_count": 17,
   "id": "4fa3a7a2",
   "metadata": {},
   "outputs": [
    {
     "data": {
      "text/html": [
       "<div>\n",
       "<style scoped>\n",
       "    .dataframe tbody tr th:only-of-type {\n",
       "        vertical-align: middle;\n",
       "    }\n",
       "\n",
       "    .dataframe tbody tr th {\n",
       "        vertical-align: top;\n",
       "    }\n",
       "\n",
       "    .dataframe thead th {\n",
       "        text-align: right;\n",
       "    }\n",
       "</style>\n",
       "<table border=\"1\" class=\"dataframe\">\n",
       "  <thead>\n",
       "    <tr style=\"text-align: right;\">\n",
       "      <th></th>\n",
       "      <th>comment</th>\n",
       "      <th>perspective_score</th>\n",
       "      <th>avg_toxic_score</th>\n",
       "      <th>comment_ID</th>\n",
       "      <th>perspective_window</th>\n",
       "      <th>avg_toxic_window</th>\n",
       "      <th>author</th>\n",
       "    </tr>\n",
       "  </thead>\n",
       "  <tbody>\n",
       "    <tr>\n",
       "      <th>3477</th>\n",
       "      <td>Look- please update i just want to nut😔</td>\n",
       "      <td>0.176069</td>\n",
       "      <td>0.30</td>\n",
       "      <td>1158_22</td>\n",
       "      <td>0.0</td>\n",
       "      <td>0.2</td>\n",
       "      <td>ValiantlyThorough</td>\n",
       "    </tr>\n",
       "    <tr>\n",
       "      <th>69221</th>\n",
       "      <td>you need a title opportunity :(</td>\n",
       "      <td>0.102586</td>\n",
       "      <td>0.45</td>\n",
       "      <td>4391_20</td>\n",
       "      <td>0.0</td>\n",
       "      <td>0.4</td>\n",
       "      <td>moist_hello</td>\n",
       "    </tr>\n",
       "    <tr>\n",
       "      <th>33623</th>\n",
       "      <td>XANAX..... For the little things in life #xanax #xanaxandchill</td>\n",
       "      <td>0.084797</td>\n",
       "      <td>0.60</td>\n",
       "      <td>3255_16</td>\n",
       "      <td>0.0</td>\n",
       "      <td>0.6</td>\n",
       "      <td>capriciousparson_683</td>\n",
       "    </tr>\n",
       "    <tr>\n",
       "      <th>69223</th>\n",
       "      <td>Both of them confused cause I treat em like the same hoe</td>\n",
       "      <td>0.166179</td>\n",
       "      <td>0.80</td>\n",
       "      <td>4391_23</td>\n",
       "      <td>0.0</td>\n",
       "      <td>0.8</td>\n",
       "      <td>PhysicalTendon</td>\n",
       "    </tr>\n",
       "    <tr>\n",
       "      <th>69488</th>\n",
       "      <td>so keep it from round me 🤮</td>\n",
       "      <td>0.386096</td>\n",
       "      <td>0.10</td>\n",
       "      <td>4782_21</td>\n",
       "      <td>0.2</td>\n",
       "      <td>0.0</td>\n",
       "      <td>warm_roadblock</td>\n",
       "    </tr>\n",
       "    <tr>\n",
       "      <th>24313</th>\n",
       "      <td>Honestly the only reason I'd go to Florida is DisneyWorld XD</td>\n",
       "      <td>0.281066</td>\n",
       "      <td>0.45</td>\n",
       "      <td>3434_11</td>\n",
       "      <td>0.2</td>\n",
       "      <td>0.4</td>\n",
       "      <td>LastVictory</td>\n",
       "    </tr>\n",
       "    <tr>\n",
       "      <th>4504</th>\n",
       "      <td>BINOY KAMPMARK: Cover-Ups and Confessions: #Pope #Francis and #Child #Abuse #catholic #church</td>\n",
       "      <td>0.310186</td>\n",
       "      <td>0.60</td>\n",
       "      <td>94_22</td>\n",
       "      <td>0.2</td>\n",
       "      <td>0.6</td>\n",
       "      <td>HushedQuorum</td>\n",
       "    </tr>\n",
       "    <tr>\n",
       "      <th>54079</th>\n",
       "      <td>If you cross illegally, you should get deported. Immediately. With no hearing.</td>\n",
       "      <td>0.373272</td>\n",
       "      <td>0.80</td>\n",
       "      <td>5569_11</td>\n",
       "      <td>0.2</td>\n",
       "      <td>0.8</td>\n",
       "      <td>depressedgallantry09</td>\n",
       "    </tr>\n",
       "    <tr>\n",
       "      <th>47286</th>\n",
       "      <td>Because the fake president and his family are guilty, just like the Republicans are guilty for backing him.</td>\n",
       "      <td>0.440870</td>\n",
       "      <td>0.10</td>\n",
       "      <td>5302_19</td>\n",
       "      <td>0.4</td>\n",
       "      <td>0.0</td>\n",
       "      <td>high_and_mighty</td>\n",
       "    </tr>\n",
       "    <tr>\n",
       "      <th>58898</th>\n",
       "      <td>Another #clip sold! Homewrecking Clown Wench #Clowns Get yours on #iWantClips!</td>\n",
       "      <td>0.547499</td>\n",
       "      <td>0.20</td>\n",
       "      <td>4832_7</td>\n",
       "      <td>0.4</td>\n",
       "      <td>0.2</td>\n",
       "      <td>moist_hello</td>\n",
       "    </tr>\n",
       "    <tr>\n",
       "      <th>71945</th>\n",
       "      <td>a movie or show with them as a lesbian couple, yes I’m here for it</td>\n",
       "      <td>0.500410</td>\n",
       "      <td>0.60</td>\n",
       "      <td>4439_16</td>\n",
       "      <td>0.4</td>\n",
       "      <td>0.6</td>\n",
       "      <td>exciting_self-control</td>\n",
       "    </tr>\n",
       "    <tr>\n",
       "      <th>33227</th>\n",
       "      <td>How about we get rid of the migrants and open up actual camps</td>\n",
       "      <td>0.487228</td>\n",
       "      <td>0.80</td>\n",
       "      <td>2577_14</td>\n",
       "      <td>0.4</td>\n",
       "      <td>0.8</td>\n",
       "      <td>orderly_reviewer</td>\n",
       "    </tr>\n",
       "    <tr>\n",
       "      <th>65329</th>\n",
       "      <td>Ever since I’ve seen @ghisssssss story time fight video, my recommended feed on yt is full of fights😂😭 but I don’t mind cause y’all bitches got balls to post a video like that on yt 😂❤️</td>\n",
       "      <td>0.786708</td>\n",
       "      <td>0.10</td>\n",
       "      <td>4209_19</td>\n",
       "      <td>0.6</td>\n",
       "      <td>0.0</td>\n",
       "      <td>therapeutic_carrier</td>\n",
       "    </tr>\n",
       "    <tr>\n",
       "      <th>10332</th>\n",
       "      <td>Keep me a check Ian got no regrets if I said it I muthafuckin meant it 🔒‼️🗣</td>\n",
       "      <td>0.760855</td>\n",
       "      <td>0.35</td>\n",
       "      <td>1658_23</td>\n",
       "      <td>0.6</td>\n",
       "      <td>0.2</td>\n",
       "      <td>PhysicalTendon</td>\n",
       "    </tr>\n",
       "    <tr>\n",
       "      <th>52009</th>\n",
       "      <td>😂 I’m sure you are disappointed Trump is shaking up your go to ninth circuit bench of activist lunatic judges. Get over it.</td>\n",
       "      <td>0.688927</td>\n",
       "      <td>0.55</td>\n",
       "      <td>4640_12</td>\n",
       "      <td>0.6</td>\n",
       "      <td>0.4</td>\n",
       "      <td>phonysoccer431</td>\n",
       "    </tr>\n",
       "    <tr>\n",
       "      <th>42293</th>\n",
       "      <td>It's a great honour to die choked under Nyomi'ass, it's a privilege for a select few... I'm joking, of course, but his face is actually her best chair!!! @Iamnyomibanxxx</td>\n",
       "      <td>0.713591</td>\n",
       "      <td>0.90</td>\n",
       "      <td>3453_14</td>\n",
       "      <td>0.6</td>\n",
       "      <td>0.8</td>\n",
       "      <td>elasticoperation</td>\n",
       "    </tr>\n",
       "    <tr>\n",
       "      <th>54393</th>\n",
       "      <td>You ain’t never walked a mile in my shoes, you don’t feel the pain that I do. Talking about man I feel you. No the hell you don’t . My mind fucked up so this ain’t what you want</td>\n",
       "      <td>0.825841</td>\n",
       "      <td>0.15</td>\n",
       "      <td>5264_18</td>\n",
       "      <td>0.8</td>\n",
       "      <td>0.0</td>\n",
       "      <td>TheseOrangutan</td>\n",
       "    </tr>\n",
       "    <tr>\n",
       "      <th>363</th>\n",
       "      <td>Your daily reminder that the vast majority of athletes are hilariously stupid</td>\n",
       "      <td>0.939716</td>\n",
       "      <td>0.30</td>\n",
       "      <td>966_14</td>\n",
       "      <td>0.8</td>\n",
       "      <td>0.2</td>\n",
       "      <td>therapeutic_carrier</td>\n",
       "    </tr>\n",
       "    <tr>\n",
       "      <th>33847</th>\n",
       "      <td>Citing yourself is the first sign you are a demented dipshit making a bad argument where there is tons of video footage countering it.</td>\n",
       "      <td>0.837659</td>\n",
       "      <td>0.55</td>\n",
       "      <td>2265_10</td>\n",
       "      <td>0.8</td>\n",
       "      <td>0.4</td>\n",
       "      <td>MustySeating</td>\n",
       "    </tr>\n",
       "    <tr>\n",
       "      <th>22094</th>\n",
       "      <td>Follow me so we can chat I’d love to fuck you</td>\n",
       "      <td>0.938420</td>\n",
       "      <td>0.70</td>\n",
       "      <td>1101_21</td>\n",
       "      <td>0.8</td>\n",
       "      <td>0.6</td>\n",
       "      <td>feeble_cynicism</td>\n",
       "    </tr>\n",
       "  </tbody>\n",
       "</table>\n",
       "</div>"
      ],
      "text/plain": [
       "                                                                                                                                                                                         comment  \\\n",
       "3477                                                                                                                                                     Look- please update i just want to nut😔   \n",
       "69221                                                                                                                                                            you need a title opportunity :(   \n",
       "33623                                                                                                                             XANAX..... For the little things in life #xanax #xanaxandchill   \n",
       "69223                                                                                                                                   Both of them confused cause I treat em like the same hoe   \n",
       "69488                                                                                                                                                                 so keep it from round me 🤮   \n",
       "24313                                                                                                                               Honestly the only reason I'd go to Florida is DisneyWorld XD   \n",
       "4504                                                                                               BINOY KAMPMARK: Cover-Ups and Confessions: #Pope #Francis and #Child #Abuse #catholic #church   \n",
       "54079                                                                                                             If you cross illegally, you should get deported. Immediately. With no hearing.   \n",
       "47286                                                                                Because the fake president and his family are guilty, just like the Republicans are guilty for backing him.   \n",
       "58898                                                                                                             Another #clip sold! Homewrecking Clown Wench #Clowns Get yours on #iWantClips!   \n",
       "71945                                                                                                                         a movie or show with them as a lesbian couple, yes I’m here for it   \n",
       "33227                                                                                                                              How about we get rid of the migrants and open up actual camps   \n",
       "65329  Ever since I’ve seen @ghisssssss story time fight video, my recommended feed on yt is full of fights😂😭 but I don’t mind cause y’all bitches got balls to post a video like that on yt 😂❤️   \n",
       "10332                                                                                                                Keep me a check Ian got no regrets if I said it I muthafuckin meant it 🔒‼️🗣   \n",
       "52009                                                                😂 I’m sure you are disappointed Trump is shaking up your go to ninth circuit bench of activist lunatic judges. Get over it.   \n",
       "42293                  It's a great honour to die choked under Nyomi'ass, it's a privilege for a select few... I'm joking, of course, but his face is actually her best chair!!! @Iamnyomibanxxx   \n",
       "54393          You ain’t never walked a mile in my shoes, you don’t feel the pain that I do. Talking about man I feel you. No the hell you don’t . My mind fucked up so this ain’t what you want   \n",
       "363                                                                                                                Your daily reminder that the vast majority of athletes are hilariously stupid   \n",
       "33847                                                     Citing yourself is the first sign you are a demented dipshit making a bad argument where there is tons of video footage countering it.   \n",
       "22094                                                                                                                                              Follow me so we can chat I’d love to fuck you   \n",
       "\n",
       "       perspective_score  avg_toxic_score comment_ID  perspective_window  \\\n",
       "3477            0.176069             0.30    1158_22                 0.0   \n",
       "69221           0.102586             0.45    4391_20                 0.0   \n",
       "33623           0.084797             0.60    3255_16                 0.0   \n",
       "69223           0.166179             0.80    4391_23                 0.0   \n",
       "69488           0.386096             0.10    4782_21                 0.2   \n",
       "24313           0.281066             0.45    3434_11                 0.2   \n",
       "4504            0.310186             0.60      94_22                 0.2   \n",
       "54079           0.373272             0.80    5569_11                 0.2   \n",
       "47286           0.440870             0.10    5302_19                 0.4   \n",
       "58898           0.547499             0.20     4832_7                 0.4   \n",
       "71945           0.500410             0.60    4439_16                 0.4   \n",
       "33227           0.487228             0.80    2577_14                 0.4   \n",
       "65329           0.786708             0.10    4209_19                 0.6   \n",
       "10332           0.760855             0.35    1658_23                 0.6   \n",
       "52009           0.688927             0.55    4640_12                 0.6   \n",
       "42293           0.713591             0.90    3453_14                 0.6   \n",
       "54393           0.825841             0.15    5264_18                 0.8   \n",
       "363             0.939716             0.30     966_14                 0.8   \n",
       "33847           0.837659             0.55    2265_10                 0.8   \n",
       "22094           0.938420             0.70    1101_21                 0.8   \n",
       "\n",
       "       avg_toxic_window                 author  \n",
       "3477                0.2      ValiantlyThorough  \n",
       "69221               0.4            moist_hello  \n",
       "33623               0.6   capriciousparson_683  \n",
       "69223               0.8         PhysicalTendon  \n",
       "69488               0.0         warm_roadblock  \n",
       "24313               0.4            LastVictory  \n",
       "4504                0.6           HushedQuorum  \n",
       "54079               0.8   depressedgallantry09  \n",
       "47286               0.0        high_and_mighty  \n",
       "58898               0.2            moist_hello  \n",
       "71945               0.6  exciting_self-control  \n",
       "33227               0.8       orderly_reviewer  \n",
       "65329               0.0    therapeutic_carrier  \n",
       "10332               0.2         PhysicalTendon  \n",
       "52009               0.4         phonysoccer431  \n",
       "42293               0.8       elasticoperation  \n",
       "54393               0.0         TheseOrangutan  \n",
       "363                 0.2    therapeutic_carrier  \n",
       "33847               0.4           MustySeating  \n",
       "22094               0.6        feeble_cynicism  "
      ]
     },
     "execution_count": 17,
     "metadata": {},
     "output_type": "execute_result"
    }
   ],
   "source": [
    "final_df['author'] = df.apply(lambda row: random.sample(usernames, 1)[0], axis=1)\n",
    "final_df"
   ]
  },
  {
   "cell_type": "code",
   "execution_count": 18,
   "id": "18d78ab6",
   "metadata": {},
   "outputs": [],
   "source": [
    "final_df.to_csv('main_comments.csv', columns = ['comment', 'author', 'perspective_score', 'avg_toxic_score', 'comment_ID'])"
   ]
  }
 ],
 "metadata": {
  "kernelspec": {
   "display_name": "Python 3",
   "language": "python",
   "name": "python3"
  },
  "language_info": {
   "codemirror_mode": {
    "name": "ipython",
    "version": 3
   },
   "file_extension": ".py",
   "mimetype": "text/x-python",
   "name": "python",
   "nbconvert_exporter": "python",
   "pygments_lexer": "ipython3",
   "version": "3.8.8"
  }
 },
 "nbformat": 4,
 "nbformat_minor": 5
}
