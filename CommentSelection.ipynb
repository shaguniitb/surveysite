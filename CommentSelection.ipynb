{
 "cells": [
  {
   "cell_type": "code",
   "execution_count": 1,
   "id": "efc4c198",
   "metadata": {},
   "outputs": [],
   "source": [
    "import pandas as pd\n",
    "import random"
   ]
  },
  {
   "cell_type": "code",
   "execution_count": 2,
   "id": "33517232",
   "metadata": {},
   "outputs": [],
   "source": [
    "pd.set_option('display.max_colwidth', None)"
   ]
  },
  {
   "cell_type": "code",
   "execution_count": 3,
   "id": "cdc0c7d4",
   "metadata": {},
   "outputs": [],
   "source": [
    "INPUT_FILE = '../toxicity_ratings - twitter.csv'"
   ]
  },
  {
   "cell_type": "code",
   "execution_count": 4,
   "id": "8a6797c3",
   "metadata": {
    "scrolled": true
   },
   "outputs": [
    {
     "name": "stderr",
     "output_type": "stream",
     "text": [
      "/Users/shagunjhaver/opt/anaconda3/lib/python3.8/site-packages/IPython/core/interactiveshell.py:3165: DtypeWarning: Columns (6,7,8,9,10,14,15,16,17,18,19) have mixed types.Specify dtype option on import or set low_memory=False.\n",
      "  has_raised = await self.run_ast_nodes(code_ast.body, cell_name,\n"
     ]
    }
   ],
   "source": [
    "df = pd.read_csv(INPUT_FILE)"
   ]
  },
  {
   "cell_type": "code",
   "execution_count": 5,
   "id": "f48c9faa",
   "metadata": {},
   "outputs": [],
   "source": [
    "df = df.dropna()"
   ]
  },
  {
   "cell_type": "code",
   "execution_count": 6,
   "id": "c7262fb2",
   "metadata": {},
   "outputs": [],
   "source": [
    "def get_avg_toxicity(row):\n",
    "    result = (row['toxic_score'] + row['toxic_score.1'] + row['toxic_score.2'] + row['toxic_score.3'] + row['toxic_score.4'])/20.0\n",
    "    return result"
   ]
  },
  {
   "cell_type": "code",
   "execution_count": 7,
   "id": "c3cf5e27",
   "metadata": {},
   "outputs": [],
   "source": [
    "df['avg_toxic_score'] = df.apply (lambda row: get_avg_toxicity(row), axis=1)"
   ]
  },
  {
   "cell_type": "code",
   "execution_count": 8,
   "id": "1ec87661",
   "metadata": {},
   "outputs": [],
   "source": [
    "df = df[['comment', 'perspective_score', 'avg_toxic_score', 'comment_ID']]"
   ]
  },
  {
   "cell_type": "code",
   "execution_count": 9,
   "id": "38ce1867",
   "metadata": {},
   "outputs": [],
   "source": [
    "def get_bucket(row, field):\n",
    "    if (row[field] < 0.2):\n",
    "        return 0.0\n",
    "    elif (row[field] < 0.4):\n",
    "        return 0.2\n",
    "    elif (row[field] < 0.6):\n",
    "        return 0.4\n",
    "    elif (row[field] < 0.8):\n",
    "        return 0.6\n",
    "    else:\n",
    "        return 0.8"
   ]
  },
  {
   "cell_type": "code",
   "execution_count": 10,
   "id": "fae2b41e",
   "metadata": {},
   "outputs": [],
   "source": [
    "df['perspective_window'] = df.apply(lambda row: get_bucket(row, 'perspective_score'), axis=1)"
   ]
  },
  {
   "cell_type": "code",
   "execution_count": 11,
   "id": "60e2e400",
   "metadata": {
    "scrolled": true
   },
   "outputs": [],
   "source": [
    "df['avg_toxic_window'] = df.apply(lambda row: get_bucket(row, 'avg_toxic_score'), axis=1)\n"
   ]
  },
  {
   "cell_type": "code",
   "execution_count": 12,
   "id": "144d4f6f",
   "metadata": {},
   "outputs": [],
   "source": [
    "f = df[df['perspective_window'] != df['avg_toxic_window']]"
   ]
  },
  {
   "cell_type": "code",
   "execution_count": 13,
   "id": "5d34630a",
   "metadata": {},
   "outputs": [
    {
     "data": {
      "text/plain": [
       "58321"
      ]
     },
     "execution_count": 13,
     "metadata": {},
     "output_type": "execute_result"
    }
   ],
   "source": [
    "len(f)"
   ]
  },
  {
   "cell_type": "code",
   "execution_count": 14,
   "id": "0776f075",
   "metadata": {},
   "outputs": [],
   "source": [
    "myrange = [0.0, 0.2, 0.4, 0.6, 0.8]\n",
    "sampled_dfs = []\n",
    "for ow in myrange:\n",
    "    g = f[f['perspective_window'] == ow]\n",
    "    for iw in myrange:\n",
    "        if (ow != iw):\n",
    "            h = g[g['avg_toxic_window'] == iw]\n",
    "            sampled_dfs.append(h.sample(1))"
   ]
  },
  {
   "cell_type": "code",
   "execution_count": 15,
   "id": "27bd4465",
   "metadata": {},
   "outputs": [],
   "source": [
    "usernameDf = pd.read_csv('../usernames.csv')\n",
    "usernames = set(list(usernameDf['username']))"
   ]
  },
  {
   "cell_type": "code",
   "execution_count": 16,
   "id": "43f0ee92",
   "metadata": {},
   "outputs": [],
   "source": [
    "final_df = pd.concat(sampled_dfs)"
   ]
  },
  {
   "cell_type": "code",
   "execution_count": 17,
   "id": "4fa3a7a2",
   "metadata": {},
   "outputs": [
    {
     "data": {
      "text/html": [
       "<div>\n",
       "<style scoped>\n",
       "    .dataframe tbody tr th:only-of-type {\n",
       "        vertical-align: middle;\n",
       "    }\n",
       "\n",
       "    .dataframe tbody tr th {\n",
       "        vertical-align: top;\n",
       "    }\n",
       "\n",
       "    .dataframe thead th {\n",
       "        text-align: right;\n",
       "    }\n",
       "</style>\n",
       "<table border=\"1\" class=\"dataframe\">\n",
       "  <thead>\n",
       "    <tr style=\"text-align: right;\">\n",
       "      <th></th>\n",
       "      <th>comment</th>\n",
       "      <th>perspective_score</th>\n",
       "      <th>avg_toxic_score</th>\n",
       "      <th>comment_ID</th>\n",
       "      <th>perspective_window</th>\n",
       "      <th>avg_toxic_window</th>\n",
       "      <th>author</th>\n",
       "    </tr>\n",
       "  </thead>\n",
       "  <tbody>\n",
       "    <tr>\n",
       "      <th>36482</th>\n",
       "      <td>Hey @nofrillsCA, water in Guelph is high quality. We don't think you should sell #Nestle bottled water in #Guelph. @nestle makes $9 billion/year in sales from bottled water, which is a manufactured need. How much do you make from #water? What about other retailers, @LoblawsON?</td>\n",
       "      <td>0.101946</td>\n",
       "      <td>0.2</td>\n",
       "      <td>2432_18</td>\n",
       "      <td>0.0</td>\n",
       "      <td>0.2</td>\n",
       "      <td>orderly_reviewer</td>\n",
       "    </tr>\n",
       "    <tr>\n",
       "      <th>44840</th>\n",
       "      <td>expectations in UST Arki? Good luck! — death</td>\n",
       "      <td>0.185932</td>\n",
       "      <td>0.5</td>\n",
       "      <td>3326_14</td>\n",
       "      <td>0.0</td>\n",
       "      <td>0.4</td>\n",
       "      <td>HushedQuorum</td>\n",
       "    </tr>\n",
       "    <tr>\n",
       "      <th>50475</th>\n",
       "      <td>Cute that she knelt thinking it actually meant something 😂😂</td>\n",
       "      <td>0.137157</td>\n",
       "      <td>0.6</td>\n",
       "      <td>5107_15</td>\n",
       "      <td>0.0</td>\n",
       "      <td>0.6</td>\n",
       "      <td>DraftyBattery</td>\n",
       "    </tr>\n",
       "    <tr>\n",
       "      <th>69223</th>\n",
       "      <td>Both of them confused cause I treat em like the same hoe</td>\n",
       "      <td>0.166179</td>\n",
       "      <td>0.8</td>\n",
       "      <td>4391_23</td>\n",
       "      <td>0.0</td>\n",
       "      <td>0.8</td>\n",
       "      <td>bumpyappeasement97</td>\n",
       "    </tr>\n",
       "    <tr>\n",
       "      <th>16057</th>\n",
       "      <td>Yeah I’m glad they posted the maximum possible sentence for doing it so people wouldn’t copycat it anymore lol</td>\n",
       "      <td>0.229798</td>\n",
       "      <td>0.1</td>\n",
       "      <td>1525_11</td>\n",
       "      <td>0.2</td>\n",
       "      <td>0.0</td>\n",
       "      <td>favorableheads3963</td>\n",
       "    </tr>\n",
       "  </tbody>\n",
       "</table>\n",
       "</div>"
      ],
      "text/plain": [
       "                                                                                                                                                                                                                                                                                     comment  \\\n",
       "36482  Hey @nofrillsCA, water in Guelph is high quality. We don't think you should sell #Nestle bottled water in #Guelph. @nestle makes $9 billion/year in sales from bottled water, which is a manufactured need. How much do you make from #water? What about other retailers, @LoblawsON?   \n",
       "44840                                                                                                                                                                                                                                           expectations in UST Arki? Good luck! — death   \n",
       "50475                                                                                                                                                                                                                            Cute that she knelt thinking it actually meant something 😂😂   \n",
       "69223                                                                                                                                                                                                                               Both of them confused cause I treat em like the same hoe   \n",
       "16057                                                                                                                                                                         Yeah I’m glad they posted the maximum possible sentence for doing it so people wouldn’t copycat it anymore lol   \n",
       "\n",
       "       perspective_score  avg_toxic_score comment_ID  perspective_window  \\\n",
       "36482           0.101946              0.2    2432_18                 0.0   \n",
       "44840           0.185932              0.5    3326_14                 0.0   \n",
       "50475           0.137157              0.6    5107_15                 0.0   \n",
       "69223           0.166179              0.8    4391_23                 0.0   \n",
       "16057           0.229798              0.1    1525_11                 0.2   \n",
       "\n",
       "       avg_toxic_window              author  \n",
       "36482               0.2    orderly_reviewer  \n",
       "44840               0.4        HushedQuorum  \n",
       "50475               0.6       DraftyBattery  \n",
       "69223               0.8  bumpyappeasement97  \n",
       "16057               0.0  favorableheads3963  "
      ]
     },
     "execution_count": 17,
     "metadata": {},
     "output_type": "execute_result"
    }
   ],
   "source": [
    "final_df['author'] = df.apply(lambda row: random.sample(usernames, 1)[0], axis=1)\n",
    "final_df.head()"
   ]
  },
  {
   "cell_type": "code",
   "execution_count": 18,
   "id": "92cda3fb",
   "metadata": {},
   "outputs": [],
   "source": [
    "column_to_write = ['comment', 'author', 'perspective_score', 'avg_toxic_score', 'comment_ID']"
   ]
  },
  {
   "cell_type": "code",
   "execution_count": 19,
   "id": "18d78ab6",
   "metadata": {},
   "outputs": [],
   "source": [
    "# final_df.to_csv('main_comments.csv', columns = column_to_write, index=False)"
   ]
  },
  {
   "cell_type": "code",
   "execution_count": 20,
   "id": "a09c91bc",
   "metadata": {},
   "outputs": [],
   "source": [
    "nontoxic_df = df.query('perspective_window == 0.0 & avg_toxic_window == 0.0')"
   ]
  },
  {
   "cell_type": "code",
   "execution_count": 21,
   "id": "d4253070",
   "metadata": {},
   "outputs": [],
   "source": [
    "nontoxic_sample = nontoxic_df.sample(16)"
   ]
  },
  {
   "cell_type": "code",
   "execution_count": 22,
   "id": "dd39d240",
   "metadata": {},
   "outputs": [],
   "source": [
    "nontoxic_sample['author'] = nontoxic_sample.apply(lambda row: random.sample(usernames, 1)[0], axis=1)"
   ]
  },
  {
   "cell_type": "code",
   "execution_count": 23,
   "id": "411c564e",
   "metadata": {},
   "outputs": [],
   "source": [
    "nontoxic_sample.to_csv('nontoxic_comments.csv', columns = column_to_write, index=False)"
   ]
  }
 ],
 "metadata": {
  "kernelspec": {
   "display_name": "Python 3",
   "language": "python",
   "name": "python3"
  },
  "language_info": {
   "codemirror_mode": {
    "name": "ipython",
    "version": 3
   },
   "file_extension": ".py",
   "mimetype": "text/x-python",
   "name": "python",
   "nbconvert_exporter": "python",
   "pygments_lexer": "ipython3",
   "version": "3.8.8"
  }
 },
 "nbformat": 4,
 "nbformat_minor": 5
}
