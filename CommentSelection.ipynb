{
 "cells": [
  {
   "cell_type": "code",
   "execution_count": 1,
   "id": "efc4c198",
   "metadata": {},
   "outputs": [],
   "source": [
    "import pandas as pd\n",
    "import random\n",
    "import numpy as np\n",
    "import datetime"
   ]
  },
  {
   "cell_type": "code",
   "execution_count": 2,
   "id": "33517232",
   "metadata": {},
   "outputs": [],
   "source": [
    "pd.set_option('display.max_colwidth', None)"
   ]
  },
  {
   "cell_type": "code",
   "execution_count": 3,
   "id": "cdc0c7d4",
   "metadata": {},
   "outputs": [],
   "source": [
    "INPUT_FILE = '../toxicity_ratings - twitter.csv'"
   ]
  },
  {
   "cell_type": "code",
   "execution_count": 4,
   "id": "8a6797c3",
   "metadata": {
    "scrolled": false
   },
   "outputs": [
    {
     "name": "stderr",
     "output_type": "stream",
     "text": [
      "/Users/shagunjhaver/opt/anaconda3/lib/python3.8/site-packages/IPython/core/interactiveshell.py:3165: DtypeWarning: Columns (6,7,8,9,10,14,15,16,17,18,19) have mixed types.Specify dtype option on import or set low_memory=False.\n",
      "  has_raised = await self.run_ast_nodes(code_ast.body, cell_name,\n"
     ]
    },
    {
     "data": {
      "text/plain": [
       "72947"
      ]
     },
     "execution_count": 4,
     "metadata": {},
     "output_type": "execute_result"
    }
   ],
   "source": [
    "df = pd.read_csv(INPUT_FILE)\n",
    "len(df)"
   ]
  },
  {
   "cell_type": "code",
   "execution_count": 5,
   "id": "f48c9faa",
   "metadata": {},
   "outputs": [
    {
     "data": {
      "text/plain": [
       "70208"
      ]
     },
     "execution_count": 5,
     "metadata": {},
     "output_type": "execute_result"
    }
   ],
   "source": [
    "df = df.dropna()\n",
    "len(df)"
   ]
  },
  {
   "cell_type": "code",
   "execution_count": 6,
   "id": "6632c519",
   "metadata": {},
   "outputs": [],
   "source": [
    "toxic_fields = [\n",
    "    'toxic_score',\n",
    "    'toxic_score.1',   \n",
    "    'toxic_score.2',\n",
    "    'toxic_score.3',    \n",
    "    'toxic_score.4',    \n",
    "]"
   ]
  },
  {
   "cell_type": "code",
   "execution_count": 7,
   "id": "c7262fb2",
   "metadata": {},
   "outputs": [],
   "source": [
    "def get_avg_toxicity(row):\n",
    "    result = sum(row[field] for field in toxic_fields)/20.0\n",
    "    for field in toxic_fields:\n",
    "        diff = abs(row[field]/4.0 - result)\n",
    "        if (diff > 0.2):\n",
    "            return None\n",
    "    return result"
   ]
  },
  {
   "cell_type": "code",
   "execution_count": 8,
   "id": "c3cf5e27",
   "metadata": {},
   "outputs": [],
   "source": [
    "df['avg_toxic_score'] = df.apply (lambda row: get_avg_toxicity(row), axis=1)"
   ]
  },
  {
   "cell_type": "code",
   "execution_count": 9,
   "id": "fa9ecee7",
   "metadata": {},
   "outputs": [
    {
     "data": {
      "text/plain": [
       "27994"
      ]
     },
     "execution_count": 9,
     "metadata": {},
     "output_type": "execute_result"
    }
   ],
   "source": [
    "df = df.dropna()\n",
    "len(df)"
   ]
  },
  {
   "cell_type": "code",
   "execution_count": 10,
   "id": "38ce1867",
   "metadata": {},
   "outputs": [],
   "source": [
    "def get_bucket(row, field):\n",
    "    if (row[field] < 0.6):\n",
    "        return 0.0\n",
    "    elif (row[field] < 0.7):\n",
    "        return 0.6\n",
    "    elif (row[field] < 0.8):\n",
    "        return 0.7\n",
    "    elif (row[field] < 0.9):\n",
    "        return 0.8\n",
    "    else:\n",
    "        return 0.9"
   ]
  },
  {
   "cell_type": "code",
   "execution_count": 11,
   "id": "60e2e400",
   "metadata": {
    "scrolled": true
   },
   "outputs": [],
   "source": [
    "df['avg_toxic_window'] = df.apply(lambda row: get_bucket(row, 'avg_toxic_score'), axis=1)"
   ]
  },
  {
   "cell_type": "code",
   "execution_count": 12,
   "id": "0776f075",
   "metadata": {},
   "outputs": [
    {
     "name": "stdout",
     "output_type": "stream",
     "text": [
      "0.6 111\n",
      "0.7 30\n",
      "0.8 61\n",
      "0.9 82\n"
     ]
    }
   ],
   "source": [
    "myrange = [0.6, 0.7, 0.8, 0.9]\n",
    "sampled_dfs = []\n",
    "for ow in myrange:\n",
    "    g = df[df['avg_toxic_window'] == ow]\n",
    "    print (ow, len(g))\n",
    "    sampled_dfs.append(g.sample(4))"
   ]
  },
  {
   "cell_type": "code",
   "execution_count": 13,
   "id": "688b5620",
   "metadata": {},
   "outputs": [],
   "source": [
    "final_df = pd.concat(sampled_dfs)"
   ]
  },
  {
   "cell_type": "code",
   "execution_count": 14,
   "id": "c0bbe1d6",
   "metadata": {},
   "outputs": [],
   "source": [
    "def get_random_date():\n",
    "    random_number_of_days = random.randrange(40)\n",
    "    random_date = datetime.date(2021, 10, 1) + datetime.timedelta(days=random_number_of_days)\n",
    "    return random_date"
   ]
  },
  {
   "cell_type": "code",
   "execution_count": 15,
   "id": "de7719ee",
   "metadata": {},
   "outputs": [],
   "source": [
    "def assignPeripherals(final_df):\n",
    "    final_df = final_df[['comment', 'avg_toxic_score', 'comment_ID']]\n",
    "    \n",
    "    # Set username\n",
    "    usernameDf = pd.read_csv('usernames.csv')\n",
    "    usernames = set(list(usernameDf['username']))\n",
    "    final_df['author'] = df.apply(lambda row: random.sample(usernames, 1)[0], axis=1)\n",
    "    \n",
    "    # Set full name\n",
    "    nameDf = pd.read_csv('random_names.csv')\n",
    "    names = set(list(nameDf['name']))\n",
    "    final_df['author_name'] = df.apply(lambda row: random.sample(names, 1)[0], axis=1)    \n",
    "    \n",
    "    # Set integer fields\n",
    "    final_df['num_likes'] = np.random.randint(1, 100, final_df.shape[0])    \n",
    "    final_df['num_comments'] = np.random.randint(1, 100, final_df.shape[0])    \n",
    "    final_df['num_retweets'] = np.random.randint(1, 100, final_df.shape[0])        \n",
    "    \n",
    "    # Set publication date\n",
    "    final_df['pub_date'] = df.apply(lambda row: get_random_date(), axis=1)\n",
    "    \n",
    "    return final_df"
   ]
  },
  {
   "cell_type": "code",
   "execution_count": 16,
   "id": "0ad30a52",
   "metadata": {},
   "outputs": [
    {
     "name": "stderr",
     "output_type": "stream",
     "text": [
      "<ipython-input-15-61dd48437cb0>:7: SettingWithCopyWarning: \n",
      "A value is trying to be set on a copy of a slice from a DataFrame.\n",
      "Try using .loc[row_indexer,col_indexer] = value instead\n",
      "\n",
      "See the caveats in the documentation: https://pandas.pydata.org/pandas-docs/stable/user_guide/indexing.html#returning-a-view-versus-a-copy\n",
      "  final_df['author'] = df.apply(lambda row: random.sample(usernames, 1)[0], axis=1)\n",
      "<ipython-input-15-61dd48437cb0>:12: SettingWithCopyWarning: \n",
      "A value is trying to be set on a copy of a slice from a DataFrame.\n",
      "Try using .loc[row_indexer,col_indexer] = value instead\n",
      "\n",
      "See the caveats in the documentation: https://pandas.pydata.org/pandas-docs/stable/user_guide/indexing.html#returning-a-view-versus-a-copy\n",
      "  final_df['author_name'] = df.apply(lambda row: random.sample(names, 1)[0], axis=1)\n",
      "<ipython-input-15-61dd48437cb0>:15: SettingWithCopyWarning: \n",
      "A value is trying to be set on a copy of a slice from a DataFrame.\n",
      "Try using .loc[row_indexer,col_indexer] = value instead\n",
      "\n",
      "See the caveats in the documentation: https://pandas.pydata.org/pandas-docs/stable/user_guide/indexing.html#returning-a-view-versus-a-copy\n",
      "  final_df['num_likes'] = np.random.randint(1, 100, final_df.shape[0])\n",
      "<ipython-input-15-61dd48437cb0>:16: SettingWithCopyWarning: \n",
      "A value is trying to be set on a copy of a slice from a DataFrame.\n",
      "Try using .loc[row_indexer,col_indexer] = value instead\n",
      "\n",
      "See the caveats in the documentation: https://pandas.pydata.org/pandas-docs/stable/user_guide/indexing.html#returning-a-view-versus-a-copy\n",
      "  final_df['num_comments'] = np.random.randint(1, 100, final_df.shape[0])\n",
      "<ipython-input-15-61dd48437cb0>:17: SettingWithCopyWarning: \n",
      "A value is trying to be set on a copy of a slice from a DataFrame.\n",
      "Try using .loc[row_indexer,col_indexer] = value instead\n",
      "\n",
      "See the caveats in the documentation: https://pandas.pydata.org/pandas-docs/stable/user_guide/indexing.html#returning-a-view-versus-a-copy\n",
      "  final_df['num_retweets'] = np.random.randint(1, 100, final_df.shape[0])\n",
      "<ipython-input-15-61dd48437cb0>:20: SettingWithCopyWarning: \n",
      "A value is trying to be set on a copy of a slice from a DataFrame.\n",
      "Try using .loc[row_indexer,col_indexer] = value instead\n",
      "\n",
      "See the caveats in the documentation: https://pandas.pydata.org/pandas-docs/stable/user_guide/indexing.html#returning-a-view-versus-a-copy\n",
      "  final_df['pub_date'] = df.apply(lambda row: get_random_date(), axis=1)\n"
     ]
    },
    {
     "data": {
      "text/html": [
       "<div>\n",
       "<style scoped>\n",
       "    .dataframe tbody tr th:only-of-type {\n",
       "        vertical-align: middle;\n",
       "    }\n",
       "\n",
       "    .dataframe tbody tr th {\n",
       "        vertical-align: top;\n",
       "    }\n",
       "\n",
       "    .dataframe thead th {\n",
       "        text-align: right;\n",
       "    }\n",
       "</style>\n",
       "<table border=\"1\" class=\"dataframe\">\n",
       "  <thead>\n",
       "    <tr style=\"text-align: right;\">\n",
       "      <th></th>\n",
       "      <th>comment</th>\n",
       "      <th>avg_toxic_score</th>\n",
       "      <th>comment_ID</th>\n",
       "      <th>author</th>\n",
       "      <th>author_name</th>\n",
       "      <th>num_likes</th>\n",
       "      <th>num_comments</th>\n",
       "      <th>num_retweets</th>\n",
       "      <th>pub_date</th>\n",
       "    </tr>\n",
       "  </thead>\n",
       "  <tbody>\n",
       "    <tr>\n",
       "      <th>8496</th>\n",
       "      <td>This is why we really can’t protect our youth from society’s view of black teens... unsupervised and out of control...and just utterly ridiculous behavior 😲</td>\n",
       "      <td>0.6</td>\n",
       "      <td>852_13</td>\n",
       "      <td>NoteworthyMuskrat</td>\n",
       "      <td>Victoria Scott</td>\n",
       "      <td>25</td>\n",
       "      <td>35</td>\n",
       "      <td>30</td>\n",
       "      <td>2021-10-09</td>\n",
       "    </tr>\n",
       "    <tr>\n",
       "      <th>53139</th>\n",
       "      <td>Im sitting here spooning honey into my mouth like the fat whore you’re pretending you’re not. Anyways, when I’m 35, I’m pretty sure I’ll be sexy too! Just like you guys!</td>\n",
       "      <td>0.6</td>\n",
       "      <td>4563_15</td>\n",
       "      <td>bravelypracticalchina</td>\n",
       "      <td>Preston Owens</td>\n",
       "      <td>20</td>\n",
       "      <td>41</td>\n",
       "      <td>90</td>\n",
       "      <td>2021-10-15</td>\n",
       "    </tr>\n",
       "    <tr>\n",
       "      <th>24583</th>\n",
       "      <td>Purchases used jets from Australia...takes soldiers in combat areas danger pay from them but lets fucking work to get that UN seat since Ireland and Norway pulled ahead, by continuing this Climate nonsense! Our military is so under equipped and in need of training but climate! 🖕</td>\n",
       "      <td>0.6</td>\n",
       "      <td>3527_8</td>\n",
       "      <td>nostalgic_narrator</td>\n",
       "      <td>Connie Barnes</td>\n",
       "      <td>77</td>\n",
       "      <td>41</td>\n",
       "      <td>61</td>\n",
       "      <td>2021-10-12</td>\n",
       "    </tr>\n",
       "    <tr>\n",
       "      <th>3607</th>\n",
       "      <td>#Alright News  California imam prays for the extermination of Jews, other Muslim leaders respond “Ameen!”</td>\n",
       "      <td>0.6</td>\n",
       "      <td>1182_13</td>\n",
       "      <td>therapeutic_carrier</td>\n",
       "      <td>Tess Crawford</td>\n",
       "      <td>80</td>\n",
       "      <td>3</td>\n",
       "      <td>29</td>\n",
       "      <td>2021-10-24</td>\n",
       "    </tr>\n",
       "    <tr>\n",
       "      <th>17261</th>\n",
       "      <td>You are out of your league and out of your mind. If you don’t think you will made to pay, you are even dumber than you appear, which astounds the mind. GFY.</td>\n",
       "      <td>0.7</td>\n",
       "      <td>1150_8</td>\n",
       "      <td>neglected_unhappiness</td>\n",
       "      <td>Lydia Bennett</td>\n",
       "      <td>40</td>\n",
       "      <td>74</td>\n",
       "      <td>4</td>\n",
       "      <td>2021-10-03</td>\n",
       "    </tr>\n",
       "  </tbody>\n",
       "</table>\n",
       "</div>"
      ],
      "text/plain": [
       "                                                                                                                                                                                                                                                                                       comment  \\\n",
       "8496                                                                                                                              This is why we really can’t protect our youth from society’s view of black teens... unsupervised and out of control...and just utterly ridiculous behavior 😲   \n",
       "53139                                                                                                                Im sitting here spooning honey into my mouth like the fat whore you’re pretending you’re not. Anyways, when I’m 35, I’m pretty sure I’ll be sexy too! Just like you guys!   \n",
       "24583  Purchases used jets from Australia...takes soldiers in combat areas danger pay from them but lets fucking work to get that UN seat since Ireland and Norway pulled ahead, by continuing this Climate nonsense! Our military is so under equipped and in need of training but climate! 🖕   \n",
       "3607                                                                                                                                                                                 #Alright News  California imam prays for the extermination of Jews, other Muslim leaders respond “Ameen!”   \n",
       "17261                                                                                                                             You are out of your league and out of your mind. If you don’t think you will made to pay, you are even dumber than you appear, which astounds the mind. GFY.   \n",
       "\n",
       "       avg_toxic_score comment_ID                 author     author_name  \\\n",
       "8496               0.6     852_13      NoteworthyMuskrat  Victoria Scott   \n",
       "53139              0.6    4563_15  bravelypracticalchina   Preston Owens   \n",
       "24583              0.6     3527_8     nostalgic_narrator   Connie Barnes   \n",
       "3607               0.6    1182_13    therapeutic_carrier   Tess Crawford   \n",
       "17261              0.7     1150_8  neglected_unhappiness   Lydia Bennett   \n",
       "\n",
       "       num_likes  num_comments  num_retweets    pub_date  \n",
       "8496          25            35            30  2021-10-09  \n",
       "53139         20            41            90  2021-10-15  \n",
       "24583         77            41            61  2021-10-12  \n",
       "3607          80             3            29  2021-10-24  \n",
       "17261         40            74             4  2021-10-03  "
      ]
     },
     "execution_count": 16,
     "metadata": {},
     "output_type": "execute_result"
    }
   ],
   "source": [
    "final_df = assignPeripherals(final_df)\n",
    "final_df.head()"
   ]
  },
  {
   "cell_type": "code",
   "execution_count": 17,
   "id": "18d78ab6",
   "metadata": {},
   "outputs": [],
   "source": [
    "final_df = final_df.sample(frac=1).reset_index(drop=True)\n",
    "final_df.to_csv('main_comments.csv', index=False)"
   ]
  },
  {
   "cell_type": "code",
   "execution_count": 18,
   "id": "a09c91bc",
   "metadata": {},
   "outputs": [],
   "source": [
    "nontoxic_df = df.query('avg_toxic_window == 0.0')"
   ]
  },
  {
   "cell_type": "code",
   "execution_count": 19,
   "id": "d4253070",
   "metadata": {},
   "outputs": [],
   "source": [
    "nontoxic_sample = nontoxic_df.sample(20)"
   ]
  },
  {
   "cell_type": "code",
   "execution_count": 20,
   "id": "f690bbbf",
   "metadata": {},
   "outputs": [
    {
     "name": "stderr",
     "output_type": "stream",
     "text": [
      "<ipython-input-15-61dd48437cb0>:7: SettingWithCopyWarning: \n",
      "A value is trying to be set on a copy of a slice from a DataFrame.\n",
      "Try using .loc[row_indexer,col_indexer] = value instead\n",
      "\n",
      "See the caveats in the documentation: https://pandas.pydata.org/pandas-docs/stable/user_guide/indexing.html#returning-a-view-versus-a-copy\n",
      "  final_df['author'] = df.apply(lambda row: random.sample(usernames, 1)[0], axis=1)\n",
      "<ipython-input-15-61dd48437cb0>:12: SettingWithCopyWarning: \n",
      "A value is trying to be set on a copy of a slice from a DataFrame.\n",
      "Try using .loc[row_indexer,col_indexer] = value instead\n",
      "\n",
      "See the caveats in the documentation: https://pandas.pydata.org/pandas-docs/stable/user_guide/indexing.html#returning-a-view-versus-a-copy\n",
      "  final_df['author_name'] = df.apply(lambda row: random.sample(names, 1)[0], axis=1)\n",
      "<ipython-input-15-61dd48437cb0>:15: SettingWithCopyWarning: \n",
      "A value is trying to be set on a copy of a slice from a DataFrame.\n",
      "Try using .loc[row_indexer,col_indexer] = value instead\n",
      "\n",
      "See the caveats in the documentation: https://pandas.pydata.org/pandas-docs/stable/user_guide/indexing.html#returning-a-view-versus-a-copy\n",
      "  final_df['num_likes'] = np.random.randint(1, 100, final_df.shape[0])\n",
      "<ipython-input-15-61dd48437cb0>:16: SettingWithCopyWarning: \n",
      "A value is trying to be set on a copy of a slice from a DataFrame.\n",
      "Try using .loc[row_indexer,col_indexer] = value instead\n",
      "\n",
      "See the caveats in the documentation: https://pandas.pydata.org/pandas-docs/stable/user_guide/indexing.html#returning-a-view-versus-a-copy\n",
      "  final_df['num_comments'] = np.random.randint(1, 100, final_df.shape[0])\n",
      "<ipython-input-15-61dd48437cb0>:17: SettingWithCopyWarning: \n",
      "A value is trying to be set on a copy of a slice from a DataFrame.\n",
      "Try using .loc[row_indexer,col_indexer] = value instead\n",
      "\n",
      "See the caveats in the documentation: https://pandas.pydata.org/pandas-docs/stable/user_guide/indexing.html#returning-a-view-versus-a-copy\n",
      "  final_df['num_retweets'] = np.random.randint(1, 100, final_df.shape[0])\n",
      "<ipython-input-15-61dd48437cb0>:20: SettingWithCopyWarning: \n",
      "A value is trying to be set on a copy of a slice from a DataFrame.\n",
      "Try using .loc[row_indexer,col_indexer] = value instead\n",
      "\n",
      "See the caveats in the documentation: https://pandas.pydata.org/pandas-docs/stable/user_guide/indexing.html#returning-a-view-versus-a-copy\n",
      "  final_df['pub_date'] = df.apply(lambda row: get_random_date(), axis=1)\n"
     ]
    },
    {
     "data": {
      "text/html": [
       "<div>\n",
       "<style scoped>\n",
       "    .dataframe tbody tr th:only-of-type {\n",
       "        vertical-align: middle;\n",
       "    }\n",
       "\n",
       "    .dataframe tbody tr th {\n",
       "        vertical-align: top;\n",
       "    }\n",
       "\n",
       "    .dataframe thead th {\n",
       "        text-align: right;\n",
       "    }\n",
       "</style>\n",
       "<table border=\"1\" class=\"dataframe\">\n",
       "  <thead>\n",
       "    <tr style=\"text-align: right;\">\n",
       "      <th></th>\n",
       "      <th>comment</th>\n",
       "      <th>avg_toxic_score</th>\n",
       "      <th>comment_ID</th>\n",
       "      <th>author</th>\n",
       "      <th>author_name</th>\n",
       "      <th>num_likes</th>\n",
       "      <th>num_comments</th>\n",
       "      <th>num_retweets</th>\n",
       "      <th>pub_date</th>\n",
       "    </tr>\n",
       "  </thead>\n",
       "  <tbody>\n",
       "    <tr>\n",
       "      <th>27939</th>\n",
       "      <td>What’s paining me if you people are yabbing broke women Cos I’m broke and I can do stuff for the man I love</td>\n",
       "      <td>0.05</td>\n",
       "      <td>2399_16</td>\n",
       "      <td>favorableheads3963</td>\n",
       "      <td>Dale Thomas</td>\n",
       "      <td>41</td>\n",
       "      <td>12</td>\n",
       "      <td>98</td>\n",
       "      <td>2021-10-08</td>\n",
       "    </tr>\n",
       "    <tr>\n",
       "      <th>23904</th>\n",
       "      <td>I'm just shocked the MAGA crowd isn't with us since they were pretty amped up about all that Pizza Gate BS. I'd think they'd be really excited about fighting the pedophiles and traffickers but ya know, for real this time.</td>\n",
       "      <td>0.40</td>\n",
       "      <td>3218_13</td>\n",
       "      <td>thefrizzyforgiveness</td>\n",
       "      <td>Lucia Cunningham</td>\n",
       "      <td>42</td>\n",
       "      <td>28</td>\n",
       "      <td>50</td>\n",
       "      <td>2021-10-30</td>\n",
       "    </tr>\n",
       "    <tr>\n",
       "      <th>22801</th>\n",
       "      <td>Crossover/OC friendly: *Moderately descriptive *DM/Tag to roleplay if you wish *TOS, Star Trek: Disco, AOS, TNG, DS9, Voyager, Enterprise, Star Wars, Orville RP, Mass Effect/Destiny, Sci-fi rp in general</td>\n",
       "      <td>0.00</td>\n",
       "      <td>2074_10</td>\n",
       "      <td>thelyricalmirth</td>\n",
       "      <td>Alberta Cameron</td>\n",
       "      <td>64</td>\n",
       "      <td>76</td>\n",
       "      <td>41</td>\n",
       "      <td>2021-10-25</td>\n",
       "    </tr>\n",
       "    <tr>\n",
       "      <th>6732</th>\n",
       "      <td>Not more than ass we don't</td>\n",
       "      <td>0.05</td>\n",
       "      <td>1473_18</td>\n",
       "      <td>orderly_reviewer</td>\n",
       "      <td>Eric Bennett</td>\n",
       "      <td>16</td>\n",
       "      <td>8</td>\n",
       "      <td>97</td>\n",
       "      <td>2021-10-03</td>\n",
       "    </tr>\n",
       "    <tr>\n",
       "      <th>26846</th>\n",
       "      <td>Joanna is SOOO BORINGG!! BOOOOOOOOO🍅🍅🍅🍅🍅🍅🍅🍅🍅</td>\n",
       "      <td>0.05</td>\n",
       "      <td>3491_12</td>\n",
       "      <td>LastVictory</td>\n",
       "      <td>Vincent Craig</td>\n",
       "      <td>70</td>\n",
       "      <td>37</td>\n",
       "      <td>90</td>\n",
       "      <td>2021-11-09</td>\n",
       "    </tr>\n",
       "  </tbody>\n",
       "</table>\n",
       "</div>"
      ],
      "text/plain": [
       "                                                                                                                                                                                                                             comment  \\\n",
       "27939                                                                                                                    What’s paining me if you people are yabbing broke women Cos I’m broke and I can do stuff for the man I love   \n",
       "23904  I'm just shocked the MAGA crowd isn't with us since they were pretty amped up about all that Pizza Gate BS. I'd think they'd be really excited about fighting the pedophiles and traffickers but ya know, for real this time.   \n",
       "22801                    Crossover/OC friendly: *Moderately descriptive *DM/Tag to roleplay if you wish *TOS, Star Trek: Disco, AOS, TNG, DS9, Voyager, Enterprise, Star Wars, Orville RP, Mass Effect/Destiny, Sci-fi rp in general   \n",
       "6732                                                                                                                                                                                                      Not more than ass we don't   \n",
       "26846                                                                                                                                                                                   Joanna is SOOO BORINGG!! BOOOOOOOOO🍅🍅🍅🍅🍅🍅🍅🍅🍅   \n",
       "\n",
       "       avg_toxic_score comment_ID                author       author_name  \\\n",
       "27939             0.05    2399_16    favorableheads3963       Dale Thomas   \n",
       "23904             0.40    3218_13  thefrizzyforgiveness  Lucia Cunningham   \n",
       "22801             0.00    2074_10       thelyricalmirth   Alberta Cameron   \n",
       "6732              0.05    1473_18      orderly_reviewer      Eric Bennett   \n",
       "26846             0.05    3491_12           LastVictory     Vincent Craig   \n",
       "\n",
       "       num_likes  num_comments  num_retweets    pub_date  \n",
       "27939         41            12            98  2021-10-08  \n",
       "23904         42            28            50  2021-10-30  \n",
       "22801         64            76            41  2021-10-25  \n",
       "6732          16             8            97  2021-10-03  \n",
       "26846         70            37            90  2021-11-09  "
      ]
     },
     "execution_count": 20,
     "metadata": {},
     "output_type": "execute_result"
    }
   ],
   "source": [
    "nontoxic_sample = assignPeripherals(nontoxic_sample)\n",
    "nontoxic_sample.head()"
   ]
  },
  {
   "cell_type": "code",
   "execution_count": 21,
   "id": "411c564e",
   "metadata": {},
   "outputs": [],
   "source": [
    "nontoxic_sample.to_csv('nontoxic_comments.csv', index=False)"
   ]
  }
 ],
 "metadata": {
  "kernelspec": {
   "display_name": "Python 3",
   "language": "python",
   "name": "python3"
  },
  "language_info": {
   "codemirror_mode": {
    "name": "ipython",
    "version": 3
   },
   "file_extension": ".py",
   "mimetype": "text/x-python",
   "name": "python",
   "nbconvert_exporter": "python",
   "pygments_lexer": "ipython3",
   "version": "3.8.8"
  }
 },
 "nbformat": 4,
 "nbformat_minor": 5
}
